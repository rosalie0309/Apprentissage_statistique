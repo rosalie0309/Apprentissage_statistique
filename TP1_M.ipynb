{
 "cells": [
  {
   "cell_type": "markdown",
   "id": "9ce1fb68",
   "metadata": {},
   "source": [
    "## TP1 d'Apprentissage Statistique \n",
    "\n",
    "### Binome:\n",
    "- NKOUNGHAWE TOMEYUM Rosalie Corine\n",
    "- LENO Celestine  "
   ]
  },
  {
   "cell_type": "markdown",
   "id": "80d6a83a",
   "metadata": {},
   "source": [
    "### A- Les données \n",
    "\n",
    "La fonction qui permet d'engendrer une matrice dont chaque valeur est une observation d'une personne avec 3 caractéristiques "
   ]
  },
  {
   "cell_type": "code",
   "execution_count": 1,
   "id": "9afd212e",
   "metadata": {},
   "outputs": [
    {
     "name": "stdout",
     "output_type": "stream",
     "text": [
      "[[('B', 'S', 'P'), ('B', 'S', 'P'), ('D', 'S', 'P')], [('D', 'T', 'G'), ('B', 'S', 'P'), ('B', 'S', 'P')], [('D', 'T', 'G'), ('B', 'T', 'P'), ('D', 'T', 'G')], [('D', 'S', 'P'), ('B', 'S', 'P'), ('B', 'S', 'G')], [('B', 'S', 'G'), ('D', 'T', 'P'), ('B', 'S', 'P')], [('B', 'S', 'P'), ('D', 'T', 'G'), ('D', 'T', 'G')], [('D', 'T', 'G'), ('B', 'T', 'P'), ('B', 'T', 'G')], [('B', 'S', 'P'), ('B', 'S', 'P'), ('D', 'T', 'P')], [('D', 'T', 'G'), ('D', 'S', 'G'), ('B', 'S', 'G')], [('D', 'T', 'P'), ('D', 'S', 'G'), ('D', 'S', 'G')], [('B', 'S', 'P'), ('D', 'S', 'P'), ('D', 'T', 'P')], [('B', 'S', 'G'), ('D', 'S', 'G'), ('D', 'S', 'G')], [('D', 'T', 'P'), ('B', 'T', 'G'), ('D', 'S', 'G')], [('D', 'S', 'G'), ('D', 'T', 'P'), ('D', 'T', 'G')], [('D', 'T', 'P'), ('D', 'S', 'G'), ('D', 'S', 'G')], [('D', 'T', 'G'), ('B', 'T', 'P'), ('D', 'T', 'P')], [('D', 'T', 'G'), ('B', 'T', 'P'), ('D', 'T', 'G')], [('B', 'T', 'P'), ('D', 'S', 'P'), ('B', 'T', 'P')], [('B', 'S', 'G'), ('D', 'S', 'G'), ('D', 'S', 'G')], [('D', 'S', 'P'), ('B', 'S', 'P'), ('D', 'S', 'G')], [('D', 'T', 'G'), ('B', 'T', 'P'), ('B', 'T', 'G')], [('D', 'T', 'P'), ('D', 'S', 'G'), ('B', 'T', 'P')], [('B', 'T', 'G'), ('B', 'S', 'G'), ('B', 'S', 'G')], [('B', 'T', 'G'), ('B', 'T', 'G'), ('B', 'S', 'P')], [('B', 'T', 'P'), ('B', 'S', 'G'), ('D', 'T', 'P')], [('D', 'T', 'P'), ('D', 'T', 'G'), ('D', 'T', 'G')], [('D', 'S', 'P'), ('B', 'T', 'G'), ('B', 'S', 'P')], [('D', 'T', 'G'), ('D', 'T', 'P'), ('B', 'T', 'G')], [('B', 'T', 'P'), ('B', 'T', 'P'), ('D', 'T', 'G')], [('D', 'T', 'G'), ('B', 'S', 'G'), ('B', 'S', 'P')], [('B', 'T', 'P'), ('D', 'T', 'G'), ('B', 'S', 'P')], [('D', 'T', 'P'), ('D', 'S', 'P'), ('B', 'T', 'G')], [('B', 'T', 'P'), ('D', 'T', 'G'), ('D', 'T', 'P')], [('B', 'T', 'P'), ('B', 'T', 'P'), ('D', 'T', 'P')], [('B', 'T', 'G'), ('B', 'S', 'G'), ('D', 'S', 'P')], [('D', 'T', 'P'), ('D', 'T', 'P'), ('D', 'T', 'P')], [('D', 'S', 'G'), ('B', 'S', 'P'), ('B', 'S', 'G')], [('B', 'T', 'G'), ('D', 'T', 'P'), ('B', 'T', 'G')], [('B', 'T', 'P'), ('B', 'T', 'G'), ('D', 'T', 'P')], [('D', 'S', 'G'), ('B', 'S', 'P'), ('B', 'T', 'P')], [('B', 'T', 'P'), ('B', 'T', 'G'), ('D', 'T', 'G')], [('D', 'S', 'P'), ('B', 'S', 'P'), ('B', 'S', 'P')], [('D', 'T', 'P'), ('D', 'T', 'G'), ('B', 'T', 'G')], [('D', 'S', 'P'), ('D', 'S', 'P'), ('D', 'S', 'P')], [('B', 'S', 'G'), ('B', 'S', 'P'), ('D', 'S', 'G')], [('D', 'S', 'G'), ('D', 'S', 'P'), ('D', 'S', 'G')], [('B', 'S', 'G'), ('D', 'S', 'G'), ('B', 'S', 'G')], [('B', 'T', 'G'), ('D', 'T', 'G'), ('B', 'T', 'G')], [('D', 'S', 'P'), ('D', 'S', 'P'), ('D', 'T', 'P')], [('B', 'S', 'P'), ('D', 'S', 'P'), ('B', 'S', 'G')], [('B', 'T', 'G'), ('D', 'S', 'P'), ('B', 'S', 'G')], [('D', 'T', 'G'), ('B', 'T', 'P'), ('B', 'S', 'P')], [('B', 'T', 'P'), ('B', 'T', 'G'), ('B', 'T', 'P')], [('D', 'S', 'P'), ('D', 'S', 'P'), ('D', 'T', 'P')], [('D', 'T', 'G'), ('B', 'T', 'P'), ('D', 'T', 'G')], [('B', 'S', 'G'), ('D', 'S', 'P'), ('B', 'T', 'P')], [('B', 'S', 'P'), ('B', 'S', 'P'), ('D', 'T', 'G')], [('D', 'S', 'G'), ('B', 'S', 'P'), ('B', 'S', 'G')], [('D', 'T', 'P'), ('D', 'T', 'P'), ('B', 'T', 'G')], [('D', 'T', 'P'), ('D', 'S', 'P'), ('D', 'T', 'P')], [('B', 'S', 'G'), ('D', 'S', 'G'), ('B', 'S', 'P')], [('B', 'T', 'P'), ('D', 'T', 'P'), ('D', 'T', 'G')], [('B', 'S', 'G'), ('B', 'T', 'P'), ('D', 'S', 'G')], [('D', 'S', 'P'), ('D', 'S', 'P'), ('B', 'T', 'P')], [('B', 'T', 'G'), ('B', 'S', 'P'), ('D', 'S', 'P')], [('D', 'T', 'P'), ('B', 'T', 'P'), ('D', 'S', 'P')], [('D', 'T', 'P'), ('B', 'T', 'P'), ('D', 'T', 'P')], [('B', 'S', 'P'), ('B', 'S', 'G'), ('B', 'S', 'G')], [('B', 'T', 'G'), ('B', 'T', 'G'), ('D', 'S', 'P')], [('D', 'T', 'P'), ('B', 'S', 'P'), ('B', 'T', 'G')], [('B', 'T', 'P'), ('D', 'S', 'P'), ('D', 'T', 'G')], [('D', 'S', 'G'), ('B', 'S', 'P'), ('D', 'S', 'P')], [('B', 'T', 'G'), ('B', 'S', 'G'), ('D', 'S', 'P')], [('B', 'S', 'G'), ('B', 'S', 'P'), ('B', 'T', 'P')], [('D', 'T', 'G'), ('B', 'T', 'P'), ('D', 'T', 'G')], [('D', 'S', 'P'), ('D', 'S', 'G'), ('D', 'T', 'G')], [('B', 'S', 'G'), ('B', 'T', 'G'), ('B', 'T', 'P')], [('B', 'S', 'G'), ('B', 'S', 'G'), ('B', 'S', 'G')], [('B', 'T', 'P'), ('B', 'S', 'P'), ('D', 'T', 'P')], [('B', 'T', 'P'), ('B', 'T', 'G'), ('D', 'S', 'P')], [('B', 'S', 'P'), ('D', 'S', 'P'), ('D', 'S', 'G')], [('D', 'T', 'G'), ('B', 'T', 'G'), ('D', 'T', 'P')], [('B', 'T', 'P'), ('B', 'T', 'G'), ('D', 'S', 'P')], [('B', 'T', 'P'), ('D', 'T', 'G'), ('B', 'T', 'P')], [('D', 'T', 'G'), ('D', 'T', 'P'), ('D', 'T', 'G')], [('B', 'S', 'G'), ('B', 'S', 'P'), ('D', 'S', 'P')], [('D', 'T', 'G'), ('B', 'S', 'G'), ('D', 'T', 'G')], [('B', 'S', 'G'), ('B', 'T', 'P'), ('D', 'S', 'P')], [('D', 'S', 'G'), ('D', 'T', 'P'), ('D', 'S', 'G')], [('B', 'T', 'P'), ('B', 'T', 'P'), ('D', 'T', 'G')], [('B', 'T', 'G'), ('D', 'T', 'G'), ('D', 'S', 'P')], [('B', 'S', 'P'), ('D', 'T', 'P'), ('B', 'S', 'G')], [('D', 'S', 'P'), ('D', 'S', 'P'), ('B', 'S', 'P')], [('B', 'T', 'P'), ('B', 'T', 'G'), ('D', 'S', 'P')], [('D', 'S', 'G'), ('D', 'S', 'G'), ('D', 'S', 'P')], [('D', 'T', 'G'), ('B', 'S', 'G'), ('B', 'T', 'G')], [('B', 'S', 'P'), ('D', 'S', 'G'), ('D', 'T', 'P')], [('D', 'S', 'G'), ('B', 'T', 'P'), ('D', 'S', 'G')], [('B', 'S', 'G'), ('D', 'S', 'P'), ('B', 'T', 'P')], [('B', 'T', 'P'), ('D', 'T', 'P'), ('B', 'T', 'P')]]\n"
     ]
    }
   ],
   "source": [
    "import random\n",
    "import numpy as np \n",
    "\n",
    "def generer_tableau(n): # n est le nombre de lignes de la matrice, le nombre de colonnes est 3\n",
    "\n",
    "    # Nous définissons les domaines de chaque observation, dans lesquels nous allons faire la sélection des valeurs \n",
    "    # pour former la matrice \n",
    "\n",
    "    cheveux = ['B', 'D']   # Blond, Dark\n",
    "    hauteur = ['T', 'S']   # Tall, Short\n",
    "    pays = ['G', 'P']      # Greenland, Poland\n",
    "    \n",
    "    tableau = []\n",
    "    for _ in range(n):  # pour chaque ligne\n",
    "        ligne = []\n",
    "        for _ in range(3):  # 3 colonnes\n",
    "            c = random.choice(cheveux)\n",
    "            h = random.choice(hauteur)\n",
    "            p = random.choice(pays)\n",
    "            ligne.append((c, h, p))  # un triplet\n",
    "        tableau.append(ligne)\n",
    "    return tableau\n",
    "\n",
    "# Générons une matrice un peu plus grande avec 100 lignes \n",
    "print(generer_tableau(100))\n"
   ]
  },
  {
   "cell_type": "code",
   "execution_count": 2,
   "id": "7fa0a7d7",
   "metadata": {},
   "outputs": [],
   "source": [
    "# La matrice que nous allons utiliser \n",
    "\n",
    "# Pour controler l'aléa \n",
    "random.seed(42)\n",
    "data = generer_tableau(100)"
   ]
  },
  {
   "cell_type": "markdown",
   "id": "8800278f",
   "metadata": {},
   "source": [
    "### B- Questions : nationalité la plus probable d'un individu grand (T) et qui a les cheveux Blond (B)\n",
    "\n",
    "Les fonctions que nous allons écrire dans la suite sont par rapport à la matrice que nous avons définie\n",
    "\n",
    "### C- Maximum a posteriori\n",
    "Nous allons utiliser deux versions de cette métrique pour conclure sur la question:  \n",
    "- Une qui se fera avec naive bayes \n",
    "- Une autre qui ne tiendra pas compte de navive bayes : se basera uniquement sur les fréquences d'apparution, via la formule des probabilités conditionnelles"
   ]
  },
  {
   "cell_type": "code",
   "execution_count": 3,
   "id": "a46fec79",
   "metadata": {},
   "outputs": [],
   "source": [
    "## Nous allons donc faire le calcul de probabilité avec plusieurs petites fonctions que nous allons utiliser\n",
    "# par la suite dans une fonction générale \n",
    "\n",
    "##1- Version avec le théorème de bayes\n",
    "\n",
    "\"\"\"\n",
    "Il s'agit de calculer deux probabilités a posteriori et de prendre le maximum afin de conclure sur la nationalité de l'individu\n",
    "Les formules sont les suivantes: \n",
    "\n",
    "P(G/B,T) = P(G)*P(B,T/G) / P(B,T)\n",
    "P(P/B,T) = P(P)*P(B,T/P) / P(B,T)\n",
    "\n",
    "Nous aurons besoin de caluler :\n",
    "P(G): pg(), \n",
    "P(P): pp(), \n",
    "P(B,T/G): pbtg(), \n",
    "P(B,T/P): pbtp() \n",
    "et P(B,T): pbt()\n",
    "\n",
    "P(G) = nombre de personnes de nationalité G / nombre total d'individus\n",
    "P(P) = nombre de personnes de nationalité P / nombre total d'individus\n",
    "\n",
    "P(B,T/G) = P(B/G)*P(T/G) via l'hypothèse d'indépendance de naive bayes\n",
    "P(B/G) : pbg() = nombre de personnes aux cheveux Blonds / nombre de personnes de nationalité G\n",
    "P(T/G) : ptg() = nombre de personnes de hauteur T / nombre de personnes de nationalité G\n",
    "\n",
    "P(B,T/P) = P(B/P)*P(T/P) pareil que précédemment pour la nationalité G\n",
    "P(B/P) : pbp() = nombre de personnes aux cheveux Blonds / nombre de personnes de nationalité P\n",
    "P(T/P) : ptp() = nombre de personnes de hauteur T / nombre de personnes de nationalité P\n",
    "\n",
    "\"\"\"\n",
    "\n",
    "\n",
    "# -------------- Fonctions utilitaires -------------------- #\n",
    "\n",
    "\n",
    "def pg(data):\n",
    "    nb_G = 0\n",
    "    nb_Total = len(data) * len(data[0])\n",
    "    for ligne in data:\n",
    "        for indiv in ligne:\n",
    "            if indiv[2] == 'G':\n",
    "                nb_G += 1\n",
    "    return nb_G / nb_Total\n",
    "\n",
    "def pp(data):\n",
    "    nb_P = 0\n",
    "    nb_Total = len(data) * len(data[0])\n",
    "    for ligne in data:\n",
    "        for indiv in ligne:\n",
    "            if indiv[2] == 'P':\n",
    "                nb_P += 1\n",
    "    return nb_P / nb_Total\n",
    "\n",
    "def pbg(data):\n",
    "    nb_blond_G, nb_G = 0, 0\n",
    "    for ligne in data:\n",
    "        for indiv in ligne:\n",
    "            if indiv[2] == 'G':\n",
    "                nb_G += 1\n",
    "                if indiv[0] == 'B':  # cheveux blonds\n",
    "                    nb_blond_G += 1\n",
    "    return nb_blond_G / nb_G if nb_G > 0 else 0\n",
    "\n",
    "def ptg(data):\n",
    "    nb_T_G, nb_G = 0, 0\n",
    "    for ligne in data:\n",
    "        for indiv in ligne:\n",
    "            if indiv[2] == 'G':\n",
    "                nb_G += 1\n",
    "                if indiv[1] == 'T':\n",
    "                    nb_T_G += 1\n",
    "    return nb_T_G / nb_G if nb_G > 0 else 0\n",
    "\n",
    "def pbp(data):\n",
    "    nb_blond_P, nb_P = 0, 0\n",
    "    for ligne in data:\n",
    "        for indiv in ligne:\n",
    "            if indiv[2] == 'P':\n",
    "                nb_P += 1\n",
    "                if indiv[0] == 'B':  # cheveux blonds\n",
    "                    nb_blond_P += 1\n",
    "    return nb_blond_P / nb_P if nb_P > 0 else 0\n",
    "\n",
    "def ptp(data):\n",
    "    nb_T_P, nb_P = 0, 0\n",
    "    for ligne in data:\n",
    "        for indiv in ligne:\n",
    "            if indiv[2] == 'P':\n",
    "                nb_P += 1\n",
    "                if indiv[1] == 'T':\n",
    "                    nb_T_P += 1\n",
    "    return nb_T_P / nb_P if nb_P > 0 else 0\n",
    "\n",
    "def pbtg(data):\n",
    "    return pbg(data) * ptg(data)\n",
    "\n",
    "def pbtp(data):\n",
    "    return pbp(data) * ptp(data)\n",
    "\n",
    "def pbt(data):\n",
    "    # P(B,T) = somme des cas pour G et P\n",
    "    # Nous appliquons la loi des proba totales, vu qu'on veut les individus \n",
    "    # avec des cheveux B et une hauteur T quelque soit la nationalité\n",
    "    \n",
    "    return pbtg(data) * pg(data) + pbtp(data) * pp(data)\n",
    "\n",
    "\n",
    "# -------------------------Fonction générale------------------#\n",
    "\n",
    "\n",
    "def classer_individu(data):\n",
    "    # probas a posteriori\n",
    "    p_G = (pg(data) * pbtg(data)) / pbt(data)\n",
    "    p_P = (pp(data) * pbtp(data)) / pbt(data)\n",
    "\n",
    "    if p_G > p_P:\n",
    "        return f\"Nationalité G avec une proba Max de {p_G}\"\n",
    "    elif p_P > p_G:\n",
    "        return f\"Nationalité P avec une proba Max de {p_P}\"\n",
    "    else:\n",
    "        return \"Indécis (égalité)\"\n"
   ]
  },
  {
   "cell_type": "code",
   "execution_count": 4,
   "id": "fbacbd75",
   "metadata": {},
   "outputs": [
    {
     "data": {
      "text/plain": [
       "'Nationalité P avec une proba Max de 0.510296618174948'"
      ]
     },
     "execution_count": 4,
     "metadata": {},
     "output_type": "execute_result"
    }
   ],
   "source": [
    "classer_individu(data)"
   ]
  },
  {
   "cell_type": "markdown",
   "id": "6e1d9ee8",
   "metadata": {},
   "source": [
    "### Conclusion sur la nationalité avec la première approche: \n",
    "\n",
    "Nous voyons que la probabilité de la nationalité P est celle trouvé comme plus grande "
   ]
  },
  {
   "cell_type": "markdown",
   "id": "e66f8253",
   "metadata": {},
   "source": [
    "## Reprenons la fonction cette fois sans utiliser le théorème de naive bayes\n",
    "\n",
    "Il sera question maintenant de faire le calcul de proba conditionnelle\n",
    "\n",
    "P(G/B,T) = P(B,T,G)/P(B,T) un peu comme la proba de l'intersection de G avec (B,T) divisé par P(B,T)\n",
    "\n",
    "Ici il s'agit de compter le nombre de fois qu'on a un individu B, T, G et diviser par le nombre d'individu total ensuit diviser par le calul du nombre de personnes aux cheveux B et une hauteur T et diviser par le nombre total d'individus \n",
    "\n",
    "P(P/B,T): on fait pareil sur la nationalité P, on regarde le max et on conclu sur la nationalité "
   ]
  },
  {
   "cell_type": "code",
   "execution_count": 5,
   "id": "a29102a9",
   "metadata": {},
   "outputs": [],
   "source": [
    "# Fonctions utilitaires pour cette deuxième version qui n'utilise pas le théorème de Bayes \n",
    "\n",
    "\"\"\"\n",
    "Ici, on calcule directement les probabilités par comptage dans le jeu de données.\n",
    "\n",
    "Formules (probabilité conditionnelle par fréquence):\n",
    "\n",
    "P(G / B,T) = P(B,T,G) / P(B,T) \n",
    "P(B,T,G) = nombre d'individus (B,T,G) / nombre total d'individus\n",
    "P(B,T)   = nombre d'individus (B,T,*) / nombre total d'individus\n",
    "\n",
    "P(P / B,T) = P(B,T,P) / P(B,T) \n",
    "P(B,T,P) = nombre d'individus (B,T,P) / nombre total d'individus\n",
    "\"\"\"\n",
    "\n",
    "def pbtg_v2(data):\n",
    "    nb_BTG = 0\n",
    "    nb_Total = len(data) * len(data[0])\n",
    "    for ligne in data:\n",
    "        for indiv in ligne: \n",
    "            if indiv[0] == 'B' and indiv[1] == 'T' and indiv[2] == 'G':\n",
    "                nb_BTG += 1\n",
    "    return nb_BTG / nb_Total if nb_Total > 0 else 0\n",
    "\n",
    "def pbtp_v2(data):\n",
    "    nb_BTP = 0\n",
    "    nb_Total = len(data) * len(data[0])\n",
    "    for ligne in data:\n",
    "        for indiv in ligne: \n",
    "            if indiv[0] == 'B' and indiv[1] == 'T' and indiv[2] == 'P':\n",
    "                nb_BTP += 1\n",
    "    return nb_BTP / nb_Total if nb_Total > 0 else 0\n",
    "\n",
    "def pbt_v2(data):\n",
    "    nb_BT = 0\n",
    "    nb_Total = len(data) * len(data[0])\n",
    "    for ligne in data:\n",
    "        for indiv in ligne: \n",
    "            if indiv[0] == 'B' and indiv[1] == 'T':  # Nationalité indifférente\n",
    "                nb_BT += 1\n",
    "    return nb_BT / nb_Total if nb_Total > 0 else 0\n",
    "\n",
    "def classer_individu_v2(data):\n",
    "    p_G = pbtg_v2(data) / pbt_v2(data) if pbt_v2(data) > 0 else 0\n",
    "    p_P = pbtp_v2(data) / pbt_v2(data) if pbt_v2(data) > 0 else 0\n",
    "    \n",
    "    if p_G > p_P:\n",
    "        return f\"Nationalité G avec proba:  (p={p_G:.3f})\"\n",
    "    elif p_P > p_G:\n",
    "        return f\"Nationalité P avec proba: (p={p_P:.3f})\"\n",
    "    else:\n",
    "        return f\"Indécis (égalité, la proba est: p={p_G:.3f})\"\n"
   ]
  },
  {
   "cell_type": "code",
   "execution_count": 6,
   "id": "c8ab6824",
   "metadata": {},
   "outputs": [
    {
     "data": {
      "text/plain": [
       "'Nationalité P avec proba: (p=0.560)'"
      ]
     },
     "execution_count": 6,
     "metadata": {},
     "output_type": "execute_result"
    }
   ],
   "source": [
    "classer_individu_v2(data)"
   ]
  },
  {
   "cell_type": "markdown",
   "id": "141f47da",
   "metadata": {},
   "source": [
    "### Commentaire:\n",
    "\n",
    "Avec notre jeu de données, on constate que les deux approches disent que l'individu est de nationalité P bien que nous remarquons que la probabilité avec la seconde approche semble être plus grande \n",
    "\n",
    "La différence entre les deux approches est que la première est plus stable, c'est moins probable d'avoir des 0 comme avec la deuxième approche. En effet, P(B,T/G) avec la deuxième approche vu qu'on calcul P(B,T,G), c'est parfois difficile d'avoir cette combinaison dans le jeu de donnée, ce qui n'est pas le cas lorsqu'on suppose l'indépendance entre les variables et qu'on applique la formule P(B/G)*P(T/G)"
   ]
  },
  {
   "cell_type": "markdown",
   "id": "94ad9782",
   "metadata": {},
   "source": [
    "## D- Estimateur de Maximum de Vraisemblance : MLE\n",
    "\n",
    "Il est question dans cette partie de trouver la classe qui maximise plutôt cette probabilité : P((B,T)/nationalité)\n",
    "\n",
    "Donc *P(observation/classe)*:\n",
    "- P((B,T)/P) : la nationalité P\n",
    "- P((B,T)/G) : la nationalité G\n",
    "\n",
    "Nous devons faire ceci en utilisant deux approches:\n",
    "1. En tenant compte du cadre bayes naïf\n",
    "P(B,T/G) = P(B/G)*P(T/G) comme donné dans l'énnoncé du TP pareil pour P(B,T/P)\n",
    "2. Sans tenir compte du cadre bayes naïf\n",
    "\n",
    "    Ici on fonctionnera par comptage dans notre matrice de données, comme avec l'exemple donné dans l'énnoncé du TP \n"
   ]
  },
  {
   "cell_type": "code",
   "execution_count": 17,
   "id": "aeef542e",
   "metadata": {},
   "outputs": [
    {
     "name": "stdout",
     "output_type": "stream",
     "text": [
      "0.24319759804841432\n"
     ]
    }
   ],
   "source": [
    "pbtg_sans_naif = pbg(data)*ptg(data)\n",
    "\n",
    "print(pbtg_sans_naif)"
   ]
  },
  {
   "cell_type": "code",
   "execution_count": 18,
   "id": "618c7f34",
   "metadata": {},
   "outputs": [
    {
     "name": "stdout",
     "output_type": "stream",
     "text": [
      "0.24025974025974026\n"
     ]
    }
   ],
   "source": [
    "pbtp_sans_naif = pbp(data)*ptp(data)\n",
    "\n",
    "print(pbtp_sans_naif)"
   ]
  },
  {
   "cell_type": "markdown",
   "id": "65c5eeba",
   "metadata": {},
   "source": [
    "#### Fonction plus générale qui prend en entrée les données et les deux paramètres (couleur_cheveux, hauteur)"
   ]
  },
  {
   "cell_type": "code",
   "execution_count": null,
   "id": "baa08d5b",
   "metadata": {},
   "outputs": [],
   "source": [
    "# Le code pour répondre à la question avec la première approche est le suivant \n",
    "\n",
    "\n",
    "# Notre fonction est un peu plus générale, nous allons lui passer les données, la couleur des cheveux B et la hauteur T pour voir \n",
    "# la classe qui maximise la vraisemblance \n",
    "def mle_naif(data, cheveux, hauteur):\n",
    "    # Comptage des individus par classe\n",
    "    # On récupère de manière individuelle les classes présentes dans les données\n",
    "    classes = set(indiv[2] for ligne in data for indiv in ligne)\n",
    "\n",
    "    # où on pourra stocker les vraissemblances calculées et retenir la valeur maximale \n",
    "    vraisemblances = {}\n",
    "\n",
    "    # rappel: le triplet (B,T,G) est dans l'ordre des caractéristiques (cheveux, hauteur et nationalité)\n",
    "    \n",
    "    for c in classes:\n",
    "        nb_c = sum(indiv[2] == c for ligne in data for indiv in ligne)\n",
    "        nb_cheveux_c = sum(indiv[2] == c and indiv[0] == cheveux for ligne in data for indiv in ligne)\n",
    "        nb_hauteur_c = sum(indiv[2] == c and indiv[1] == hauteur for ligne in data for indiv in ligne)\n",
    "        \n",
    "        p_cheveux = nb_cheveux_c / nb_c if nb_c > 0 else 0\n",
    "        p_hauteur  = nb_hauteur_c / nb_c if nb_c > 0 else 0\n",
    "        \n",
    "        vraisemblances[c] = p_cheveux * p_hauteur\n",
    "    \n",
    "    # Choisir la classe qui maximise P(x|c)\n",
    "    best_class = max(vraisemblances, key=vraisemblances.get)\n",
    "    return best_class, vraisemblances\n"
   ]
  },
  {
   "cell_type": "code",
   "execution_count": 8,
   "id": "b2ee8c45",
   "metadata": {},
   "outputs": [
    {
     "name": "stdout",
     "output_type": "stream",
     "text": [
      "La distribution de vraisemblance entre les classes est: {'G': 0.24319759804841432, 'P': 0.24025974025974026} \n",
      "La nationalité finale est: G\n"
     ]
    }
   ],
   "source": [
    "## Test de notre fonction pour répondre à la question\n",
    "\n",
    "print(f\"La distribution de vraisemblance entre les classes est: {mle_naif(data=data, cheveux='B', hauteur='T')[1]} \\nLa nationalité finale est: {mle_naif(data=data, cheveux='B', hauteur='T')[0]}\")"
   ]
  },
  {
   "cell_type": "code",
   "execution_count": null,
   "id": "cd841ae8",
   "metadata": {},
   "outputs": [],
   "source": [
    "## Si on utilisait nos fonctions définies plus haut, voici comment serait simplement le code \n",
    "\n",
    "def mle_naif_v2(data):\n",
    "\n",
    "    # on calcul P(B,T/G) = P(B/G)*P(T/G) on l'appellera p1\n",
    "    p1 = pbg(data)*ptg(data)\n",
    "\n",
    "    # On calcul ensuite P(B,T/P) = P(B/P) * P(T/P) on l'appellera p2\n",
    "    p2 = pbp(data)*ptp(data)\n",
    "    \n",
    "    # comparaison et choix de la nationalité \n",
    "    if p1 > p2:\n",
    "        print(f\"L'individu (B,T) est de nationalité G avec une vraisemblance de {p1}\")\n",
    "    else:\n",
    "        print(f\"L'individu (B,T) est de nationalité P avec une vraisemblance de {p2}\")"
   ]
  },
  {
   "cell_type": "code",
   "execution_count": 21,
   "id": "955bdf87",
   "metadata": {},
   "outputs": [
    {
     "name": "stdout",
     "output_type": "stream",
     "text": [
      "L'individu (B,T) est de nationalité G avec une vraisemblance de 0.24319759804841432\n"
     ]
    }
   ],
   "source": [
    "## Application \n",
    "mle_naif_v2(data)"
   ]
  },
  {
   "cell_type": "markdown",
   "id": "f47ff8e3",
   "metadata": {},
   "source": [
    "### MLE : approche sans l'utilisation de bayes naïf "
   ]
  },
  {
   "cell_type": "code",
   "execution_count": 9,
   "id": "0a9aa278",
   "metadata": {},
   "outputs": [],
   "source": [
    "# Le code pour répondre à la question avec la deuxième approche est le suivant\n",
    "\n",
    "def mle_sans_naif(data, cheveux, hauteur):\n",
    "    classes = set(indiv[2] for ligne in data for indiv in ligne)\n",
    "    vraisemblances = {}\n",
    "    \n",
    "    for c in classes:\n",
    "        nb_c = sum(indiv[2] == c for ligne in data for indiv in ligne)\n",
    "        nb_obs_c = sum(indiv[2] == c and indiv[0] == cheveux and indiv[1] == hauteur \n",
    "                       for ligne in data for indiv in ligne)\n",
    "        \n",
    "        vraisemblances[c] = nb_obs_c / nb_c if nb_c > 0 else 0\n",
    "    \n",
    "    best_class = max(vraisemblances, key=vraisemblances.get)\n",
    "    return best_class, vraisemblances\n"
   ]
  },
  {
   "cell_type": "code",
   "execution_count": 10,
   "id": "01851056",
   "metadata": {},
   "outputs": [
    {
     "name": "stdout",
     "output_type": "stream",
     "text": [
      "La distribution des proba entre les classes est: {'G': 0.22602739726027396, 'P': 0.2727272727272727} \n",
      "La nationalité finale est: P\n"
     ]
    }
   ],
   "source": [
    "# Application de la fonction avec le cas (B,T,G)\n",
    "\n",
    "print(f\"La distribution des proba entre les classes est: {mle_sans_naif(data=data, cheveux='B', hauteur='T')[1]} \\nLa nationalité finale est: {mle_sans_naif(data=data, cheveux='B', hauteur='T')[0]}\")"
   ]
  },
  {
   "cell_type": "markdown",
   "id": "fdff9d13",
   "metadata": {},
   "source": [
    "## E- Point de vue continu"
   ]
  },
  {
   "cell_type": "markdown",
   "id": "b036e919",
   "metadata": {},
   "source": [
    "Dans ce cadre, on suppose que la mesure de la couleur des cheveux n’est plus binaire (B ou D) mais une variable continue notée intensité appartenant à [0,1] :\n",
    "\n",
    "- 0 = blond pur\n",
    "- 1 = dark pur\n",
    "- Entre les deux, ce sont des valeurs intermédiaires.\n",
    "\n",
    "1. Génération du jeu de données\n",
    "\n",
    "Nous avons engender ce nouveau jeu de données avec la fonction qui génère aléatoirement des triplets (intensité, hauteur, pays)"
   ]
  },
  {
   "cell_type": "code",
   "execution_count": 24,
   "id": "617857d2",
   "metadata": {},
   "outputs": [
    {
     "data": {
      "text/plain": [
       "[(0.6394267984578837, 'T', 'P'),\n",
       " (0.24489185380347622, 'T', 'G'),\n",
       " (0.6766994874229113, 'T', 'P'),\n",
       " (0.03178267948178359, 'T', 'G'),\n",
       " (0.2326608933907396, 'T', 'G'),\n",
       " (0.7160196129224035, 'S', 'G'),\n",
       " (0.4492090462838536, 'S', 'G'),\n",
       " (0.7588073671297673, 'T', 'P'),\n",
       " (0.3402505165179919, 'T', 'G'),\n",
       " (0.9572130722067812, 'S', 'G'),\n",
       " (0.09274584338014791, 'T', 'P'),\n",
       " (0.8474943663474598, 'S', 'G'),\n",
       " (0.7297317866938179, 'T', 'P'),\n",
       " (0.07880019807845817, 'S', 'P'),\n",
       " (0.577352145256762, 'T', 'G'),\n",
       " (0.6612633185677101, 'S', 'G'),\n",
       " (0.8553177210151469, 'T', 'P'),\n",
       " (0.2779736031100921, 'S', 'G'),\n",
       " (0.37018096711688264, 'T', 'P'),\n",
       " (0.7018203134585513, 'T', 'G'),\n",
       " (0.534139877029708, 'T', 'G'),\n",
       " (0.46226021185111577, 'S', 'G'),\n",
       " (0.6846142509898746, 'T', 'G'),\n",
       " (0.8218025940068083, 'S', 'P'),\n",
       " (0.26774087597570273, 'T', 'P'),\n",
       " (0.2126265440541406, 'S', 'P'),\n",
       " (0.8846831538867025, 'S', 'G'),\n",
       " (0.26488016649805246, 'T', 'P'),\n",
       " (0.7470138116522579, 'S', 'P'),\n",
       " (0.36199644371361095, 'T', 'P'),\n",
       " (0.09090941217379389, 'T', 'G'),\n",
       " (0.15284131934826106, 'T', 'P'),\n",
       " (0.5964090307319738, 'S', 'P'),\n",
       " (0.5958884283611281, 'S', 'P'),\n",
       " (0.9710783776136181, 'T', 'G'),\n",
       " (0.6817103690265748, 'S', 'P'),\n",
       " (0.11155217359587644, 'S', 'G'),\n",
       " (0.45372370632920644, 'S', 'G'),\n",
       " (0.5076816746043252, 'T', 'P'),\n",
       " (0.8416693481724671, 'T', 'G'),\n",
       " (0.37391385259114795, 'T', 'G'),\n",
       " (0.598944584460229, 'S', 'G'),\n",
       " (0.11186772532089506, 'S', 'P'),\n",
       " (0.2394523103380588, 'T', 'G'),\n",
       " (0.08565345206787878, 'S', 'G'),\n",
       " (0.9779844936773342, 'T', 'G'),\n",
       " (0.6597508227473674, 'T', 'P'),\n",
       " (0.527673787418254, 'S', 'G'),\n",
       " (0.9289134930021768, 'T', 'P'),\n",
       " (0.39899229999742913, 'S', 'P'),\n",
       " (0.8996140846429455, 'S', 'G'),\n",
       " (0.24790561366600794, 'T', 'P'),\n",
       " (0.02103426000705888, 'T', 'G'),\n",
       " (0.0071908389850935395, 'T', 'G'),\n",
       " (0.0674003281103075, 'T', 'P'),\n",
       " (0.07085734988865344, 'T', 'P'),\n",
       " (0.6689777782962806, 'T', 'G'),\n",
       " (0.7233525658809709, 'S', 'G'),\n",
       " (0.7846194242907534, 'S', 'G'),\n",
       " (0.09432579649188222, 'S', 'P'),\n",
       " (0.4235786230199208, 'S', 'G'),\n",
       " (0.6733645472933015, 'T', 'G'),\n",
       " (0.4026212821022688, 'S', 'G'),\n",
       " (0.24865633392028563, 'T', 'P'),\n",
       " (0.14018229709477448, 'T', 'P'),\n",
       " (0.4626280684009674, 'T', 'P'),\n",
       " (0.8080222447317026, 'T', 'G'),\n",
       " (0.652144893998522, 'T', 'G'),\n",
       " (0.9263669830081276, 'T', 'G'),\n",
       " (0.406414057952472, 'S', 'G'),\n",
       " (0.8646503940302155, 'T', 'G'),\n",
       " (0.3789731189769161, 'S', 'P'),\n",
       " (0.9265180735593334, 'S', 'P'),\n",
       " (0.4230074859901629, 'S', 'G'),\n",
       " (0.18989786726763713, 'T', 'G'),\n",
       " (0.5791802908162562, 'T', 'P'),\n",
       " (0.05716527290748308, 'S', 'G'),\n",
       " (0.056879579728684515, 'T', 'G'),\n",
       " (0.06852133270379235, 'T', 'G'),\n",
       " (0.40377555131827747, 'T', 'G'),\n",
       " (0.6193815103321031, 'S', 'P'),\n",
       " (0.9347062577364272, 'T', 'P'),\n",
       " (0.23868595261584602, 'S', 'G'),\n",
       " (0.6716902229599713, 'S', 'P'),\n",
       " (0.31617719627185403, 'T', 'G'),\n",
       " (0.4582855226185861, 'T', 'G'),\n",
       " (0.5376344041016273, 'S', 'G'),\n",
       " (0.9332593779937091, 'T', 'G'),\n",
       " (0.36952708873888396, 'T', 'P'),\n",
       " (0.833744954639807, 'S', 'G'),\n",
       " (0.6678632037125836, 'S', 'G'),\n",
       " (0.9389300039271039, 'T', 'P'),\n",
       " (0.11542867041910221, 'T', 'G'),\n",
       " (0.2723482123148163, 'T', 'P'),\n",
       " (0.20359731232745293, 'S', 'P'),\n",
       " (0.2511212520698941, 'T', 'G'),\n",
       " (0.6342844473091942, 'S', 'G'),\n",
       " (0.0035456890877823, 'T', 'P'),\n",
       " (0.16158197627388615, 'S', 'P'),\n",
       " (0.5609068647747464, 'T', 'G')]"
      ]
     },
     "execution_count": 24,
     "metadata": {},
     "output_type": "execute_result"
    }
   ],
   "source": [
    "def generer_tableau_continu(n):\n",
    "    tableau = []\n",
    "    for _ in range(n):\n",
    "        intensite = random.uniform(0,1)  # valeur continue entre 0 et 1\n",
    "        hauteur = random.choice(['T','S'])\n",
    "        pays = random.choice(['G','P'])\n",
    "        tableau.append((intensite, hauteur, pays))\n",
    "    return tableau\n",
    "\n",
    "# Générons pour 100 individus\n",
    "random.seed(42) # Pour controler un peu l'aléa \n",
    "data_continu = generer_tableau_continu(100)\n",
    "data_continu"
   ]
  },
  {
   "cell_type": "markdown",
   "id": "60b7ed80",
   "metadata": {},
   "source": [
    "2. Explication \n",
    "\n",
    "Dans ce contexte, la couleur des cheveux devient une variable continue, notée x, représentant une intensité comprise entre 0 et 1.\n",
    "La formule de la vraisemblance s’écrit alors :\n",
    "\n",
    "P(x,hauteur∣pays)=f(x∣pays)×P(hauteur∣pays)\n",
    "\n",
    "où :\n",
    "f(x∣pays) est la densité de probabilité de la variable continue x, que nous allons modéliser par une loi normale (gaussienne),\n",
    "\n",
    "P(hauteur∣pays) reste une probabilité discrète estimée comme une fréquence, comme dans les questions précédentes.\n",
    "\n",
    "Le principe du Maximum de Vraisemblance (MLE) consistera toujours à choisir le pays qui maximise cette vraisemblance P(x,hauteur∣pays).\n",
    "\n",
    "Pour le cas du Maximum a posteriori (MAP), on multipliera en plus par la probabilité a priori du pays P(pays), comme dans la première partie.\n",
    "\n",
    "Donc voici en gros comment nous allons fonctionner \n"
   ]
  },
  {
   "cell_type": "markdown",
   "id": "c1b84184",
   "metadata": {},
   "source": [
    "3. Modifications dans les fonctions Python\n",
    "\n",
    "Dans les fonctions précédentes, on calculait P(B/G) avec la fonction pbg en comptant le nombre de personnes de hauteur G avec la couleur des cheveux Blond divisé par le nombre personne de hauteur G. Mais ici on va devoir remplacer cela par la fonction de densité gausienne f(x/G).\n",
    "\n",
    "On pourra estimer les moyennes et l'écart-type des intensités de cheveux des individus de nationalité G par le MLE "
   ]
  },
  {
   "cell_type": "code",
   "execution_count": null,
   "id": "ecfc36b1",
   "metadata": {},
   "outputs": [
    {
     "name": "stdout",
     "output_type": "stream",
     "text": [
      "L'individu est de la nationalité P avec une vraisemblance de 0.695064924599263\n"
     ]
    }
   ],
   "source": [
    "## On remplace pbg par cette version dans le cas continu\n",
    "import math\n",
    "\n",
    "def pbg_continu(data, x):\n",
    "    # On extrait les intensités de cheveux pour la nationalité G\n",
    "    cheveux_G = [indiv[0] for indiv in data if indiv[2] == 'G']\n",
    "    if not cheveux_G:\n",
    "        return 0\n",
    "    \n",
    "    mu_G = sum(cheveux_G) / len(cheveux_G)\n",
    "    sigma_G = math.sqrt(sum((c - mu_G)**2 for c in cheveux_G) / len(cheveux_G))\n",
    "    \n",
    "    # Densité gaussienne évaluée en x\n",
    "    return (1 / (math.sqrt(2 * math.pi) * sigma_G)) * math.exp(-((x - mu_G)**2) / (2 * sigma_G**2))\n",
    "\n",
    "# On fait pareil pour pbp \n",
    "\n",
    "\n",
    "\n",
    "def pbp_continu(data, x):\n",
    "    # On extrait les intensités de cheveux pour la nationalité P\n",
    "    cheveux_P = [indiv[0] for indiv in data if indiv[2] == 'P']\n",
    "    if not cheveux_P:\n",
    "        return 0\n",
    "    \n",
    "    mu_P = sum(cheveux_P) / len(cheveux_P)\n",
    "    sigma_P = math.sqrt(sum((c - mu_P)**2 for c in cheveux_P) / len(cheveux_P))\n",
    "    \n",
    "    # Densité gaussienne évaluée en x\n",
    "    return (1 / (math.sqrt(2 * math.pi) * sigma_P)) * math.exp(-((x - mu_P)**2) / (2 * sigma_P**2))\n",
    "\n",
    "# Comme la matrice est un peu différence, voici comment on doit parcourir pour calculer ptg et ptp \n",
    "def ptg(data):\n",
    "    nb_T_G, nb_G = 0, 0\n",
    "    for indiv in data:\n",
    "        if indiv[2] == 'G':\n",
    "            nb_G += 1\n",
    "            if indiv[1] == 'T':\n",
    "                nb_T_G += 1\n",
    "    return nb_T_G / nb_G if nb_G > 0 else 0\n",
    "\n",
    "def ptp(data):\n",
    "    nb_T_P, nb_P = 0, 0\n",
    "    for indiv in data:\n",
    "        if indiv[2] == 'P':\n",
    "                nb_P += 1\n",
    "                if indiv[1] == 'T':\n",
    "                    nb_T_P += 1\n",
    "    return nb_T_P / nb_P if nb_P > 0 else 0\n",
    "\n",
    "# Maintenant avec ces fonctions, on va simplement remplacer le calcul de p1 et p2 qu'on faisait comme ceci:\n",
    "#p1 = pbg(data) * ptg(data)\n",
    "#p2 = pbp(data) * ptp(data)\n",
    "\n",
    "# Par ceci: \n",
    "#p1 = pbg_continu(data, x) * ptg(data)\n",
    "#p2 = pbp_continu(data, x) * ptp(data)\n",
    "\n",
    "# Il faut remplacer x par une valeur continue quelconque qu'on aimerait prendre pour prédire la nationalité \n",
    "\n",
    "# Application des fonctions et prédiction de la nationalité \n",
    "\n",
    "# Nous allons prendre la première valeur de data_continu\n",
    "x = data_continu[0][0]\n",
    "\n",
    "# Calcul des proba \n",
    "p1 = pbg_continu(data_continu, x) * ptg(data_continu)\n",
    "p2 = pbp_continu(data_continu, x) * ptp(data_continu)\n",
    "\n",
    "# Affichage de la nationalité \n",
    "if p1 > p2:\n",
    "    print(f\"L'individu est de la nationalité G avec une vraisemblance de {p1}\")\n",
    "else:\n",
    "    print(f\"L'individu est de la nationalité P avec une vraisemblance de {p2}\")\n"
   ]
  }
 ],
 "metadata": {
  "kernelspec": {
   "display_name": "Python 3",
   "language": "python",
   "name": "python3"
  },
  "language_info": {
   "codemirror_mode": {
    "name": "ipython",
    "version": 3
   },
   "file_extension": ".py",
   "mimetype": "text/x-python",
   "name": "python",
   "nbconvert_exporter": "python",
   "pygments_lexer": "ipython3",
   "version": "3.12.10"
  }
 },
 "nbformat": 4,
 "nbformat_minor": 5
}
