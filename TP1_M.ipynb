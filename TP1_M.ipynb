{
 "cells": [
  {
   "cell_type": "markdown",
   "id": "9ce1fb68",
   "metadata": {},
   "source": [
    "## TP1 d'Apprentissage Statistique \n",
    "\n",
    "### Binome:\n",
    "- NKOUNGHAWE TOMEYUM Rosalie Corine\n",
    "- LENO Celestine  "
   ]
  },
  {
   "cell_type": "markdown",
   "id": "80d6a83a",
   "metadata": {},
   "source": [
    "### A- Les données \n",
    "\n",
    "La fonction qui permet d'engendrer une matrice dont chaque valeur est une observation d'une personne avec 3 caractéristiques "
   ]
  },
  {
   "cell_type": "code",
   "execution_count": 1,
   "id": "9afd212e",
   "metadata": {},
   "outputs": [
    {
     "name": "stdout",
     "output_type": "stream",
     "text": [
      "[[('B', 'S', 'P'), ('B', 'S', 'P'), ('D', 'S', 'P')], [('D', 'T', 'G'), ('B', 'S', 'P'), ('B', 'S', 'P')], [('D', 'T', 'G'), ('B', 'T', 'P'), ('D', 'T', 'G')], [('D', 'S', 'P'), ('B', 'S', 'P'), ('B', 'S', 'G')], [('B', 'S', 'G'), ('D', 'T', 'P'), ('B', 'S', 'P')], [('B', 'S', 'P'), ('D', 'T', 'G'), ('D', 'T', 'G')], [('D', 'T', 'G'), ('B', 'T', 'P'), ('B', 'T', 'G')], [('B', 'S', 'P'), ('B', 'S', 'P'), ('D', 'T', 'P')], [('D', 'T', 'G'), ('D', 'S', 'G'), ('B', 'S', 'G')], [('D', 'T', 'P'), ('D', 'S', 'G'), ('D', 'S', 'G')], [('B', 'S', 'P'), ('D', 'S', 'P'), ('D', 'T', 'P')], [('B', 'S', 'G'), ('D', 'S', 'G'), ('D', 'S', 'G')], [('D', 'T', 'P'), ('B', 'T', 'G'), ('D', 'S', 'G')], [('D', 'S', 'G'), ('D', 'T', 'P'), ('D', 'T', 'G')], [('D', 'T', 'P'), ('D', 'S', 'G'), ('D', 'S', 'G')], [('D', 'T', 'G'), ('B', 'T', 'P'), ('D', 'T', 'P')], [('D', 'T', 'G'), ('B', 'T', 'P'), ('D', 'T', 'G')], [('B', 'T', 'P'), ('D', 'S', 'P'), ('B', 'T', 'P')], [('B', 'S', 'G'), ('D', 'S', 'G'), ('D', 'S', 'G')], [('D', 'S', 'P'), ('B', 'S', 'P'), ('D', 'S', 'G')], [('D', 'T', 'G'), ('B', 'T', 'P'), ('B', 'T', 'G')], [('D', 'T', 'P'), ('D', 'S', 'G'), ('B', 'T', 'P')], [('B', 'T', 'G'), ('B', 'S', 'G'), ('B', 'S', 'G')], [('B', 'T', 'G'), ('B', 'T', 'G'), ('B', 'S', 'P')], [('B', 'T', 'P'), ('B', 'S', 'G'), ('D', 'T', 'P')], [('D', 'T', 'P'), ('D', 'T', 'G'), ('D', 'T', 'G')], [('D', 'S', 'P'), ('B', 'T', 'G'), ('B', 'S', 'P')], [('D', 'T', 'G'), ('D', 'T', 'P'), ('B', 'T', 'G')], [('B', 'T', 'P'), ('B', 'T', 'P'), ('D', 'T', 'G')], [('D', 'T', 'G'), ('B', 'S', 'G'), ('B', 'S', 'P')], [('B', 'T', 'P'), ('D', 'T', 'G'), ('B', 'S', 'P')], [('D', 'T', 'P'), ('D', 'S', 'P'), ('B', 'T', 'G')], [('B', 'T', 'P'), ('D', 'T', 'G'), ('D', 'T', 'P')], [('B', 'T', 'P'), ('B', 'T', 'P'), ('D', 'T', 'P')], [('B', 'T', 'G'), ('B', 'S', 'G'), ('D', 'S', 'P')], [('D', 'T', 'P'), ('D', 'T', 'P'), ('D', 'T', 'P')], [('D', 'S', 'G'), ('B', 'S', 'P'), ('B', 'S', 'G')], [('B', 'T', 'G'), ('D', 'T', 'P'), ('B', 'T', 'G')], [('B', 'T', 'P'), ('B', 'T', 'G'), ('D', 'T', 'P')], [('D', 'S', 'G'), ('B', 'S', 'P'), ('B', 'T', 'P')], [('B', 'T', 'P'), ('B', 'T', 'G'), ('D', 'T', 'G')], [('D', 'S', 'P'), ('B', 'S', 'P'), ('B', 'S', 'P')], [('D', 'T', 'P'), ('D', 'T', 'G'), ('B', 'T', 'G')], [('D', 'S', 'P'), ('D', 'S', 'P'), ('D', 'S', 'P')], [('B', 'S', 'G'), ('B', 'S', 'P'), ('D', 'S', 'G')], [('D', 'S', 'G'), ('D', 'S', 'P'), ('D', 'S', 'G')], [('B', 'S', 'G'), ('D', 'S', 'G'), ('B', 'S', 'G')], [('B', 'T', 'G'), ('D', 'T', 'G'), ('B', 'T', 'G')], [('D', 'S', 'P'), ('D', 'S', 'P'), ('D', 'T', 'P')], [('B', 'S', 'P'), ('D', 'S', 'P'), ('B', 'S', 'G')], [('B', 'T', 'G'), ('D', 'S', 'P'), ('B', 'S', 'G')], [('D', 'T', 'G'), ('B', 'T', 'P'), ('B', 'S', 'P')], [('B', 'T', 'P'), ('B', 'T', 'G'), ('B', 'T', 'P')], [('D', 'S', 'P'), ('D', 'S', 'P'), ('D', 'T', 'P')], [('D', 'T', 'G'), ('B', 'T', 'P'), ('D', 'T', 'G')], [('B', 'S', 'G'), ('D', 'S', 'P'), ('B', 'T', 'P')], [('B', 'S', 'P'), ('B', 'S', 'P'), ('D', 'T', 'G')], [('D', 'S', 'G'), ('B', 'S', 'P'), ('B', 'S', 'G')], [('D', 'T', 'P'), ('D', 'T', 'P'), ('B', 'T', 'G')], [('D', 'T', 'P'), ('D', 'S', 'P'), ('D', 'T', 'P')], [('B', 'S', 'G'), ('D', 'S', 'G'), ('B', 'S', 'P')], [('B', 'T', 'P'), ('D', 'T', 'P'), ('D', 'T', 'G')], [('B', 'S', 'G'), ('B', 'T', 'P'), ('D', 'S', 'G')], [('D', 'S', 'P'), ('D', 'S', 'P'), ('B', 'T', 'P')], [('B', 'T', 'G'), ('B', 'S', 'P'), ('D', 'S', 'P')], [('D', 'T', 'P'), ('B', 'T', 'P'), ('D', 'S', 'P')], [('D', 'T', 'P'), ('B', 'T', 'P'), ('D', 'T', 'P')], [('B', 'S', 'P'), ('B', 'S', 'G'), ('B', 'S', 'G')], [('B', 'T', 'G'), ('B', 'T', 'G'), ('D', 'S', 'P')], [('D', 'T', 'P'), ('B', 'S', 'P'), ('B', 'T', 'G')], [('B', 'T', 'P'), ('D', 'S', 'P'), ('D', 'T', 'G')], [('D', 'S', 'G'), ('B', 'S', 'P'), ('D', 'S', 'P')], [('B', 'T', 'G'), ('B', 'S', 'G'), ('D', 'S', 'P')], [('B', 'S', 'G'), ('B', 'S', 'P'), ('B', 'T', 'P')], [('D', 'T', 'G'), ('B', 'T', 'P'), ('D', 'T', 'G')], [('D', 'S', 'P'), ('D', 'S', 'G'), ('D', 'T', 'G')], [('B', 'S', 'G'), ('B', 'T', 'G'), ('B', 'T', 'P')], [('B', 'S', 'G'), ('B', 'S', 'G'), ('B', 'S', 'G')], [('B', 'T', 'P'), ('B', 'S', 'P'), ('D', 'T', 'P')], [('B', 'T', 'P'), ('B', 'T', 'G'), ('D', 'S', 'P')], [('B', 'S', 'P'), ('D', 'S', 'P'), ('D', 'S', 'G')], [('D', 'T', 'G'), ('B', 'T', 'G'), ('D', 'T', 'P')], [('B', 'T', 'P'), ('B', 'T', 'G'), ('D', 'S', 'P')], [('B', 'T', 'P'), ('D', 'T', 'G'), ('B', 'T', 'P')], [('D', 'T', 'G'), ('D', 'T', 'P'), ('D', 'T', 'G')], [('B', 'S', 'G'), ('B', 'S', 'P'), ('D', 'S', 'P')], [('D', 'T', 'G'), ('B', 'S', 'G'), ('D', 'T', 'G')], [('B', 'S', 'G'), ('B', 'T', 'P'), ('D', 'S', 'P')], [('D', 'S', 'G'), ('D', 'T', 'P'), ('D', 'S', 'G')], [('B', 'T', 'P'), ('B', 'T', 'P'), ('D', 'T', 'G')], [('B', 'T', 'G'), ('D', 'T', 'G'), ('D', 'S', 'P')], [('B', 'S', 'P'), ('D', 'T', 'P'), ('B', 'S', 'G')], [('D', 'S', 'P'), ('D', 'S', 'P'), ('B', 'S', 'P')], [('B', 'T', 'P'), ('B', 'T', 'G'), ('D', 'S', 'P')], [('D', 'S', 'G'), ('D', 'S', 'G'), ('D', 'S', 'P')], [('D', 'T', 'G'), ('B', 'S', 'G'), ('B', 'T', 'G')], [('B', 'S', 'P'), ('D', 'S', 'G'), ('D', 'T', 'P')], [('D', 'S', 'G'), ('B', 'T', 'P'), ('D', 'S', 'G')], [('B', 'S', 'G'), ('D', 'S', 'P'), ('B', 'T', 'P')], [('B', 'T', 'P'), ('D', 'T', 'P'), ('B', 'T', 'P')]]\n"
     ]
    }
   ],
   "source": [
    "import random\n",
    "import numpy as np \n",
    "\n",
    "def generer_tableau(n): # n est le nombre de lignes de la matrice, le nombre de colonnes est 3\n",
    "\n",
    "    # Nous définissons les domaines de chaque observation, dans lesquels nous allons faire la sélection des valeurs \n",
    "    # pour former la matrice \n",
    "\n",
    "    cheveux = ['B', 'D']   # Blond, Dark\n",
    "    hauteur = ['T', 'S']   # Tall, Short\n",
    "    pays = ['G', 'P']      # Greenland, Poland\n",
    "    \n",
    "    tableau = []\n",
    "    for _ in range(n):  # pour chaque ligne\n",
    "        ligne = []\n",
    "        for _ in range(3):  # 3 colonnes\n",
    "            c = random.choice(cheveux)\n",
    "            h = random.choice(hauteur)\n",
    "            p = random.choice(pays)\n",
    "            ligne.append((c, h, p))  # un triplet\n",
    "        tableau.append(ligne)\n",
    "    return tableau\n",
    "\n",
    "# Générons une matrice un peu plus grande avec 100 lignes \n",
    "print(generer_tableau(100))\n"
   ]
  },
  {
   "cell_type": "code",
   "execution_count": 2,
   "id": "7fa0a7d7",
   "metadata": {},
   "outputs": [],
   "source": [
    "# La matrice que nous allons utiliser \n",
    "\n",
    "# Pour controler l'aléa \n",
    "random.seed(42)\n",
    "data = generer_tableau(100)"
   ]
  },
  {
   "cell_type": "markdown",
   "id": "8800278f",
   "metadata": {},
   "source": [
    "### B- Questions : nationalité la plus probable d'un individu grand (T) et qui a les cheveux Blond (B)\n",
    "\n",
    "Les fonctions que nous allons écrire dans la suite sont par rapport à la matrice que nous avons définie\n",
    "\n",
    "### C- Maximum a posteriori\n",
    "Nous allons utiliser deux versions de cette métrique pour conclure sur la question:  \n",
    "- Une qui se fera avec naive bayes \n",
    "- Une autre qui ne tiendra pas compte de navive bayes : se basera uniquement sur les fréquences d'apparution, via la formule des probabilités conditionnelles"
   ]
  },
  {
   "cell_type": "code",
   "execution_count": 3,
   "id": "a46fec79",
   "metadata": {},
   "outputs": [],
   "source": [
    "## Nous allons donc faire le calcul de probabilité avec plusieurs petites fonctions que nous allons utiliser\n",
    "# par la suite dans une fonction générale \n",
    "\n",
    "##1- Version avec le théorème de bayes\n",
    "\n",
    "\"\"\"\n",
    "Il s'agit de calculer deux probabilités a posteriori et de prendre le maximum afin de conclure sur la nationalité de l'individu\n",
    "Les formules sont les suivantes: \n",
    "\n",
    "P(G/B,T) = P(G)*P(B,T/G) / P(B,T)\n",
    "P(P/B,T) = P(P)*P(B,T/P) / P(B,T)\n",
    "\n",
    "Nous aurons besoin de caluler :\n",
    "P(G): pg(), \n",
    "P(P): pp(), \n",
    "P(B,T/G): pbtg(), \n",
    "P(B,T/P): pbtp() \n",
    "et P(B,T): pbt()\n",
    "\n",
    "P(G) = nombre de personnes de nationalité G / nombre total d'individus\n",
    "P(P) = nombre de personnes de nationalité P / nombre total d'individus\n",
    "\n",
    "P(B,T/G) = P(B/G)*P(T/G) via l'hypothèse d'indépendance de naive bayes\n",
    "P(B/G) : pbg() = nombre de personnes aux cheveux Blonds / nombre de personnes de nationalité G\n",
    "P(T/G) : ptg() = nombre de personnes de hauteur T / nombre de personnes de nationalité G\n",
    "\n",
    "P(B,T/P) = P(B/P)*P(T/P) pareil que précédemment pour la nationalité G\n",
    "P(B/P) : pbp() = nombre de personnes aux cheveux Blonds / nombre de personnes de nationalité P\n",
    "P(T/P) : ptp() = nombre de personnes de hauteur T / nombre de personnes de nationalité P\n",
    "\n",
    "\"\"\"\n",
    "\n",
    "\n",
    "# -------------- Fonctions utilitaires -------------------- #\n",
    "\n",
    "\n",
    "def pg(data):\n",
    "    nb_G = 0\n",
    "    nb_Total = len(data) * len(data[0])\n",
    "    for ligne in data:\n",
    "        for indiv in ligne:\n",
    "            if indiv[2] == 'G':\n",
    "                nb_G += 1\n",
    "    return nb_G / nb_Total\n",
    "\n",
    "def pp(data):\n",
    "    nb_P = 0\n",
    "    nb_Total = len(data) * len(data[0])\n",
    "    for ligne in data:\n",
    "        for indiv in ligne:\n",
    "            if indiv[2] == 'P':\n",
    "                nb_P += 1\n",
    "    return nb_P / nb_Total\n",
    "\n",
    "def pbg(data):\n",
    "    nb_blond_G, nb_G = 0, 0\n",
    "    for ligne in data:\n",
    "        for indiv in ligne:\n",
    "            if indiv[2] == 'G':\n",
    "                nb_G += 1\n",
    "                if indiv[0] == 'B':  # cheveux blonds\n",
    "                    nb_blond_G += 1\n",
    "    return nb_blond_G / nb_G if nb_G > 0 else 0\n",
    "\n",
    "def ptg(data):\n",
    "    nb_T_G, nb_G = 0, 0\n",
    "    for ligne in data:\n",
    "        for indiv in ligne:\n",
    "            if indiv[2] == 'G':\n",
    "                nb_G += 1\n",
    "                if indiv[1] == 'T':\n",
    "                    nb_T_G += 1\n",
    "    return nb_T_G / nb_G if nb_G > 0 else 0\n",
    "\n",
    "def pbp(data):\n",
    "    nb_blond_P, nb_P = 0, 0\n",
    "    for ligne in data:\n",
    "        for indiv in ligne:\n",
    "            if indiv[2] == 'P':\n",
    "                nb_P += 1\n",
    "                if indiv[0] == 'B':  # cheveux blonds\n",
    "                    nb_blond_P += 1\n",
    "    return nb_blond_P / nb_P if nb_P > 0 else 0\n",
    "\n",
    "def ptp(data):\n",
    "    nb_T_P, nb_P = 0, 0\n",
    "    for ligne in data:\n",
    "        for indiv in ligne:\n",
    "            if indiv[2] == 'P':\n",
    "                nb_P += 1\n",
    "                if indiv[1] == 'T':\n",
    "                    nb_T_P += 1\n",
    "    return nb_T_P / nb_P if nb_P > 0 else 0\n",
    "\n",
    "def pbtg(data):\n",
    "    return pbg(data) * ptg(data)\n",
    "\n",
    "def pbtp(data):\n",
    "    return pbp(data) * ptp(data)\n",
    "\n",
    "def pbt(data):\n",
    "    # P(B,T) = somme des cas pour G et P\n",
    "    # Nous appliquons la loi des proba totales, vu qu'on veut les individus \n",
    "    # avec des cheveux B et une hauteur T quelque soit la nationalité\n",
    "    \n",
    "    return pbtg(data) * pg(data) + pbtp(data) * pp(data)\n",
    "\n",
    "\n",
    "# -------------------------Fonction générale------------------#\n",
    "\n",
    "\n",
    "def classer_individu(data):\n",
    "    # probas a posteriori\n",
    "    p_G = (pg(data) * pbtg(data)) / pbt(data)\n",
    "    p_P = (pp(data) * pbtp(data)) / pbt(data)\n",
    "\n",
    "    if p_G > p_P:\n",
    "        return f\"Nationalité G avec une proba Max de {p_G}\"\n",
    "    elif p_P > p_G:\n",
    "        return f\"Nationalité P avec une proba Max de {p_P}\"\n",
    "    else:\n",
    "        return \"Indécis (égalité)\"\n"
   ]
  },
  {
   "cell_type": "code",
   "execution_count": 4,
   "id": "fbacbd75",
   "metadata": {},
   "outputs": [
    {
     "data": {
      "text/plain": [
       "'Nationalité P avec une proba Max de 0.510296618174948'"
      ]
     },
     "execution_count": 4,
     "metadata": {},
     "output_type": "execute_result"
    }
   ],
   "source": [
    "classer_individu(data)"
   ]
  },
  {
   "cell_type": "markdown",
   "id": "6e1d9ee8",
   "metadata": {},
   "source": [
    "### Conclusion sur la nationalité avec la première approche: \n",
    "\n",
    "Nous voyons que la probabilité de la nationalité P est celle trouvé comme plus grande "
   ]
  },
  {
   "cell_type": "markdown",
   "id": "e66f8253",
   "metadata": {},
   "source": [
    "## Reprenons la fonction cette fois sans utiliser le théorème de naive bayes\n",
    "\n",
    "Il sera question maintenant de faire le calcul de proba conditionnelle\n",
    "\n",
    "P(G/B,T) = P(B,T,G)/P(B,T) un peu comme la proba de l'intersection de G avec (B,T) divisé par P(B,T)\n",
    "\n",
    "Ici il s'agit de compter le nombre de fois qu'on a un individu B, T, G et diviser par le nombre d'individu total ensuit diviser par le calul du nombre de personnes aux cheveux B et une hauteur T et diviser par le nombre total d'individus \n",
    "\n",
    "P(P/B,T): on fait pareil sur la nationalité P, on regarde le max et on conclu sur la nationalité "
   ]
  },
  {
   "cell_type": "code",
   "execution_count": 5,
   "id": "a29102a9",
   "metadata": {},
   "outputs": [],
   "source": [
    "# Fonctions utilitaires pour cette deuxième version qui n'utilise pas le théorème de Bayes \n",
    "\n",
    "\"\"\"\n",
    "Ici, on calcule directement les probabilités par comptage dans le jeu de données.\n",
    "\n",
    "Formules (probabilité conditionnelle par fréquence):\n",
    "\n",
    "P(G / B,T) = P(B,T,G) / P(B,T) \n",
    "P(B,T,G) = nombre d'individus (B,T,G) / nombre total d'individus\n",
    "P(B,T)   = nombre d'individus (B,T,*) / nombre total d'individus\n",
    "\n",
    "P(P / B,T) = P(B,T,P) / P(B,T) \n",
    "P(B,T,P) = nombre d'individus (B,T,P) / nombre total d'individus\n",
    "\"\"\"\n",
    "\n",
    "def pbtg_v2(data):\n",
    "    nb_BTG = 0\n",
    "    nb_Total = len(data) * len(data[0])\n",
    "    for ligne in data:\n",
    "        for indiv in ligne: \n",
    "            if indiv[0] == 'B' and indiv[1] == 'T' and indiv[2] == 'G':\n",
    "                nb_BTG += 1\n",
    "    return nb_BTG / nb_Total if nb_Total > 0 else 0\n",
    "\n",
    "def pbtp_v2(data):\n",
    "    nb_BTP = 0\n",
    "    nb_Total = len(data) * len(data[0])\n",
    "    for ligne in data:\n",
    "        for indiv in ligne: \n",
    "            if indiv[0] == 'B' and indiv[1] == 'T' and indiv[2] == 'P':\n",
    "                nb_BTP += 1\n",
    "    return nb_BTP / nb_Total if nb_Total > 0 else 0\n",
    "\n",
    "def pbt_v2(data):\n",
    "    nb_BT = 0\n",
    "    nb_Total = len(data) * len(data[0])\n",
    "    for ligne in data:\n",
    "        for indiv in ligne: \n",
    "            if indiv[0] == 'B' and indiv[1] == 'T':  # Nationalité indifférente\n",
    "                nb_BT += 1\n",
    "    return nb_BT / nb_Total if nb_Total > 0 else 0\n",
    "\n",
    "def classer_individu_v2(data):\n",
    "    p_G = pbtg_v2(data) / pbt_v2(data) if pbt_v2(data) > 0 else 0\n",
    "    p_P = pbtp_v2(data) / pbt_v2(data) if pbt_v2(data) > 0 else 0\n",
    "    \n",
    "    if p_G > p_P:\n",
    "        return f\"Nationalité G avec proba:  (p={p_G:.3f})\"\n",
    "    elif p_P > p_G:\n",
    "        return f\"Nationalité P avec proba: (p={p_P:.3f})\"\n",
    "    else:\n",
    "        return f\"Indécis (égalité, la proba est: p={p_G:.3f})\"\n"
   ]
  },
  {
   "cell_type": "code",
   "execution_count": 6,
   "id": "c8ab6824",
   "metadata": {},
   "outputs": [
    {
     "data": {
      "text/plain": [
       "'Nationalité P avec proba: (p=0.560)'"
      ]
     },
     "execution_count": 6,
     "metadata": {},
     "output_type": "execute_result"
    }
   ],
   "source": [
    "classer_individu_v2(data)"
   ]
  },
  {
   "cell_type": "markdown",
   "id": "141f47da",
   "metadata": {},
   "source": [
    "### Commentaire:\n",
    "\n",
    "Avec notre jeu de données, on constate que les deux approches disent que l'individu est de nationalité P bien que nous remarquons que la probabilité avec la seconde approche semble être plus grande \n",
    "\n",
    "La différence entre les deux approches est que la première est plus stable, c'est moins probable d'avoir des 0 comme avec la deuxième approche. En effet, P(B,T/G) avec la deuxième approche vu qu'on calcul P(B,T,G), c'est parfois difficile d'avoir cette combinaison dans le jeu de donnée, ce qui n'est pas le cas lorsqu'on suppose l'indépendance entre les variables et qu'on applique la formule P(B/G)*P(T/G)"
   ]
  },
  {
   "cell_type": "markdown",
   "id": "94ad9782",
   "metadata": {},
   "source": [
    "## D- Estimateur de Maximum de Vraisemblance : MLE\n",
    "\n",
    "Il est question dans cette partie de trouver la classe qui maximise plutôt cette probabilité : P((B,T)/nationalité)\n",
    "\n",
    "Donc *P(observation/classe)*:\n",
    "- P((B,T)/P) : la nationalité P\n",
    "- P((B,T)/G) : la nationalité G\n",
    "\n",
    "Nous devons faire ceci en utilisant deux approches:\n",
    "1. En tenant compte du cadre bayes naïf\n",
    "P(B,T/G) = P(B/G)*P(T/G) comme donné dans l'énnoncé du TP pareil pour P(B,T/P)\n",
    "2. Sans tenir compte du cadre bayes naïf\n",
    "\n",
    "    Ici on fonctionnera par comptage dans notre matrice de données, comme avec l'exemple donné dans l'énnoncé du TP \n"
   ]
  },
  {
   "cell_type": "code",
   "execution_count": 17,
   "id": "aeef542e",
   "metadata": {},
   "outputs": [
    {
     "name": "stdout",
     "output_type": "stream",
     "text": [
      "0.24319759804841432\n"
     ]
    }
   ],
   "source": [
    "pbtg_sans_naif = pbg(data)*ptg(data)\n",
    "\n",
    "print(pbtg_sans_naif)"
   ]
  },
  {
   "cell_type": "code",
   "execution_count": 18,
   "id": "618c7f34",
   "metadata": {},
   "outputs": [
    {
     "name": "stdout",
     "output_type": "stream",
     "text": [
      "0.24025974025974026\n"
     ]
    }
   ],
   "source": [
    "pbtp_sans_naif = pbp(data)*ptp(data)\n",
    "\n",
    "print(pbtp_sans_naif)"
   ]
  },
  {
   "cell_type": "code",
   "execution_count": null,
   "id": "baa08d5b",
   "metadata": {},
   "outputs": [],
   "source": [
    "# Le code pour répondre à la question avec la première approche est le suivant \n",
    "\n",
    "\n",
    "# Notre fonction est un peu plus générale, nous allons lui passer les données, la couleur des cheveux B et la hauteur T pour voir \n",
    "# la classe qui maximise la vraisemblance \n",
    "def mle_naif(data, cheveux, hauteur):\n",
    "    # Comptage des individus par classe\n",
    "    # On récupère de manière individuelle les classes présentes dans les données\n",
    "    classes = set(indiv[2] for ligne in data for indiv in ligne)\n",
    "\n",
    "    # où on pourra stocker les vraissemblances calculées et retenir la valeur maximale \n",
    "    vraisemblances = {}\n",
    "\n",
    "    # rappel: le triplet (B,T,G) est dans l'ordre des caractéristiques (cheveux, hauteur et nationalité)\n",
    "    \n",
    "    for c in classes:\n",
    "        nb_c = sum(indiv[2] == c for ligne in data for indiv in ligne)\n",
    "        nb_cheveux_c = sum(indiv[2] == c and indiv[0] == cheveux for ligne in data for indiv in ligne)\n",
    "        nb_hauteur_c = sum(indiv[2] == c and indiv[1] == hauteur for ligne in data for indiv in ligne)\n",
    "        \n",
    "        p_cheveux = nb_cheveux_c / nb_c if nb_c > 0 else 0\n",
    "        p_hauteur  = nb_hauteur_c / nb_c if nb_c > 0 else 0\n",
    "        \n",
    "        vraisemblances[c] = p_cheveux * p_hauteur\n",
    "    \n",
    "    # Choisir la classe qui maximise P(x|c)\n",
    "    best_class = max(vraisemblances, key=vraisemblances.get)\n",
    "    return best_class, vraisemblances\n"
   ]
  },
  {
   "cell_type": "code",
   "execution_count": 8,
   "id": "b2ee8c45",
   "metadata": {},
   "outputs": [
    {
     "name": "stdout",
     "output_type": "stream",
     "text": [
      "La distribution de vraisemblance entre les classes est: {'G': 0.24319759804841432, 'P': 0.24025974025974026} \n",
      "La nationalité finale est: G\n"
     ]
    }
   ],
   "source": [
    "## Test de notre fonction pour répondre à la question\n",
    "\n",
    "print(f\"La distribution de vraisemblance entre les classes est: {mle_naif(data=data, cheveux='B', hauteur='T')[1]} \\nLa nationalité finale est: {mle_naif(data=data, cheveux='B', hauteur='T')[0]}\")"
   ]
  },
  {
   "cell_type": "code",
   "execution_count": null,
   "id": "cd841ae8",
   "metadata": {},
   "outputs": [],
   "source": [
    "## Si on utilisait nos fonctions définies plus haut, voici comment serait simplement le code \n",
    "\n",
    "def mle_naif_v2(data):\n",
    "\n",
    "    # on calcul P(B,T/G) = P(B/G)*P(T/G) on l'appellera p1\n",
    "    p1 = pbg(data)*ptg(data)\n",
    "\n",
    "    # On calcul ensuite P(B,T/P) = P(B/P) * P(T/P) on l'appellera p2\n",
    "    p2 = pbp(data)*ptp(data)\n",
    "    \n",
    "    # comparaison et choix de la nationalité \n",
    "    if p1 > p2:\n",
    "        print(f\"L'individu (B,T) est de nationalité G avec une vraisemblance de {p1}\")\n",
    "    else:\n",
    "        print(f\"L'individu (B,T) est de nationalité P avec une vraisemblance de {p2}\")"
   ]
  },
  {
   "cell_type": "code",
   "execution_count": 21,
   "id": "955bdf87",
   "metadata": {},
   "outputs": [
    {
     "name": "stdout",
     "output_type": "stream",
     "text": [
      "L'individu (B,T) est de nationalité G avec une vraisemblance de 0.24319759804841432\n"
     ]
    }
   ],
   "source": [
    "## Application \n",
    "mle_naif_v2(data)"
   ]
  },
  {
   "cell_type": "code",
   "execution_count": 9,
   "id": "0a9aa278",
   "metadata": {},
   "outputs": [],
   "source": [
    "# Le code pour répondre à la question avec la deuxième approche est le suivant\n",
    "\n",
    "def mle_sans_naif(data, cheveux, hauteur):\n",
    "    classes = set(indiv[2] for ligne in data for indiv in ligne)\n",
    "    vraisemblances = {}\n",
    "    \n",
    "    for c in classes:\n",
    "        nb_c = sum(indiv[2] == c for ligne in data for indiv in ligne)\n",
    "        nb_obs_c = sum(indiv[2] == c and indiv[0] == cheveux and indiv[1] == hauteur \n",
    "                       for ligne in data for indiv in ligne)\n",
    "        \n",
    "        vraisemblances[c] = nb_obs_c / nb_c if nb_c > 0 else 0\n",
    "    \n",
    "    best_class = max(vraisemblances, key=vraisemblances.get)\n",
    "    return best_class, vraisemblances\n"
   ]
  },
  {
   "cell_type": "code",
   "execution_count": 10,
   "id": "01851056",
   "metadata": {},
   "outputs": [
    {
     "name": "stdout",
     "output_type": "stream",
     "text": [
      "La distribution des proba entre les classes est: {'G': 0.22602739726027396, 'P': 0.2727272727272727} \n",
      "La nationalité finale est: P\n"
     ]
    }
   ],
   "source": [
    "# Application de la fonction avec le cas (B,T,G)\n",
    "\n",
    "print(f\"La distribution des proba entre les classes est: {mle_sans_naif(data=data, cheveux='B', hauteur='T')[1]} \\nLa nationalité finale est: {mle_sans_naif(data=data, cheveux='B', hauteur='T')[0]}\")"
   ]
  },
  {
   "cell_type": "markdown",
   "id": "fdff9d13",
   "metadata": {},
   "source": [
    "## E- Point de vue continu"
   ]
  },
  {
   "cell_type": "markdown",
   "id": "b036e919",
   "metadata": {},
   "source": [
    "Dans ce cadre, on suppose que la mesure de la couleur des cheveux n’est plus binaire (B ou D) mais une variable continue notée intensité appartenant à [0,1] :\n",
    "\n",
    "- 0 = blond pur\n",
    "- 1 = dark pur\n",
    "- Entre les deux, ce sont des valeurs intermédiaires.\n",
    "\n",
    "1. Génération du jeu de données\n",
    "\n",
    "Nous avons engender ce nouveau jeu de données avec la fonction qui génère aléatoirement des triplets (intensité, hauteur, pays)"
   ]
  },
  {
   "cell_type": "code",
   "execution_count": 11,
   "id": "617857d2",
   "metadata": {},
   "outputs": [
    {
     "data": {
      "text/plain": [
       "[(0.5719226923507389, 'S', 'P'),\n",
       " (0.021939597859565008, 'S', 'P'),\n",
       " (0.008097965761490244, 'T', 'P'),\n",
       " (0.8328388996731884, 'S', 'G'),\n",
       " (0.607064998164266, 'S', 'G'),\n",
       " (0.6366178780058919, 'S', 'G'),\n",
       " (0.6282481036868983, 'T', 'P'),\n",
       " (0.7886104840101539, 'T', 'P'),\n",
       " (0.7323597679392383, 'T', 'P'),\n",
       " (0.3267191257140104, 'S', 'G'),\n",
       " (0.2007947946500762, 'S', 'P'),\n",
       " (0.8304726195673974, 'S', 'P'),\n",
       " (0.9673840761668122, 'S', 'P'),\n",
       " (0.8042325386045106, 'S', 'G'),\n",
       " (0.14075701500588267, 'T', 'P'),\n",
       " (0.9672697473000323, 'S', 'G'),\n",
       " (0.7906819685889375, 'T', 'P'),\n",
       " (0.5365723082690591, 'S', 'P'),\n",
       " (0.6728283818737536, 'S', 'P'),\n",
       " (0.8224173012267743, 'S', 'G'),\n",
       " (0.674836555375322, 'S', 'G'),\n",
       " (0.6195468670445295, 'S', 'G'),\n",
       " (0.6476523806394415, 'S', 'P'),\n",
       " (0.6492394462845911, 'T', 'G'),\n",
       " (0.045346811013382116, 'T', 'P'),\n",
       " (0.9959273747550295, 'T', 'G'),\n",
       " (0.23480003243132908, 'T', 'P'),\n",
       " (0.4536437568888926, 'S', 'G'),\n",
       " (0.8854137838995794, 'T', 'P'),\n",
       " (0.6156522140511563, 'S', 'G'),\n",
       " (0.6902806637475636, 'T', 'P'),\n",
       " (0.44469585977908344, 'T', 'P'),\n",
       " (0.09935462460613032, 'S', 'P'),\n",
       " (0.060550089166608756, 'S', 'G'),\n",
       " (0.9682068759363868, 'S', 'G'),\n",
       " (0.662768738061978, 'T', 'G'),\n",
       " (0.7867945904546167, 'T', 'G'),\n",
       " (0.7869780999763158, 'T', 'G'),\n",
       " (0.8298178372171325, 'T', 'G'),\n",
       " (0.813052981121059, 'T', 'P'),\n",
       " (0.77436857780482, 'T', 'P'),\n",
       " (0.8584061263801763, 'T', 'G'),\n",
       " (0.5402154568631514, 'T', 'G'),\n",
       " (0.6610576425973168, 'T', 'G'),\n",
       " (0.014860327230708847, 'T', 'P'),\n",
       " (0.015781083511160254, 'S', 'G'),\n",
       " (0.12675854371278028, 'S', 'G'),\n",
       " (0.7456652750339957, 'S', 'P'),\n",
       " (0.7780170393142027, 'T', 'P'),\n",
       " (0.5038386897858214, 'T', 'P'),\n",
       " (0.45804252209768204, 'T', 'G'),\n",
       " (0.9985867550893269, 'S', 'P'),\n",
       " (0.6860974960622327, 'S', 'P'),\n",
       " (0.0734907157664505, 'T', 'P'),\n",
       " (0.60829742363344, 'T', 'G'),\n",
       " (0.2750159995579532, 'S', 'P'),\n",
       " (0.9946277558609236, 'S', 'P'),\n",
       " (0.5055510744856804, 'S', 'G'),\n",
       " (0.7930960931016461, 'T', 'G'),\n",
       " (0.43006994166638635, 'T', 'P'),\n",
       " (0.3389316188351752, 'S', 'P'),\n",
       " (0.41598965026149526, 'T', 'P'),\n",
       " (0.426764006260958, 'S', 'P'),\n",
       " (0.9535925176191249, 'S', 'G'),\n",
       " (0.09122478836604864, 'T', 'G'),\n",
       " (0.43187651855174025, 'S', 'G'),\n",
       " (0.5563707356153501, 'S', 'G'),\n",
       " (0.4108086329221582, 'S', 'G'),\n",
       " (0.9683986253114745, 'S', 'P'),\n",
       " (0.1036005659246334, 'T', 'G'),\n",
       " (0.6567363029881521, 'T', 'G'),\n",
       " (0.35011399422119116, 'S', 'G'),\n",
       " (0.7626056319368497, 'T', 'P'),\n",
       " (0.8451551613283581, 'T', 'P'),\n",
       " (0.028953181061268318, 'S', 'P'),\n",
       " (0.9215375210331727, 'S', 'G'),\n",
       " (0.18140555821256865, 'T', 'P'),\n",
       " (0.06958542124833644, 'T', 'G'),\n",
       " (0.7461117620057067, 'T', 'P'),\n",
       " (0.41983249376450316, 'S', 'G'),\n",
       " (0.3700530924770039, 'S', 'G'),\n",
       " (0.8833421845183433, 'T', 'G'),\n",
       " (0.7544358791249854, 'T', 'G'),\n",
       " (0.27210284354621894, 'S', 'P'),\n",
       " (0.6070760074410154, 'S', 'P'),\n",
       " (0.21556896533774683, 'T', 'P'),\n",
       " (0.42991363339789035, 'S', 'P'),\n",
       " (0.5269341071481448, 'S', 'G'),\n",
       " (0.2205184355025246, 'T', 'G'),\n",
       " (0.20442312435373178, 'T', 'G'),\n",
       " (0.7641608957612477, 'S', 'P'),\n",
       " (0.11998434370554911, 'S', 'P'),\n",
       " (0.1756948018758423, 'S', 'G'),\n",
       " (0.5002623465562132, 'S', 'G'),\n",
       " (0.3970711742472973, 'T', 'P'),\n",
       " (0.0187415365856457, 'T', 'P'),\n",
       " (0.5757591607368311, 'S', 'P'),\n",
       " (0.28951520558575816, 'S', 'G'),\n",
       " (0.9661996910331262, 'T', 'P'),\n",
       " (0.8320259130717071, 'S', 'G')]"
      ]
     },
     "execution_count": 11,
     "metadata": {},
     "output_type": "execute_result"
    }
   ],
   "source": [
    "def generer_tableau_continu(n):\n",
    "    tableau = []\n",
    "    for _ in range(n):\n",
    "        intensite = random.uniform(0,1)  # valeur continue entre 0 et 1\n",
    "        hauteur = random.choice(['T','S'])\n",
    "        pays = random.choice(['G','P'])\n",
    "        tableau.append((intensite, hauteur, pays))\n",
    "    return tableau\n",
    "\n",
    "# Générons pour 100 individus\n",
    "data_continu = generer_tableau_continu(100)\n",
    "data_continu"
   ]
  },
  {
   "cell_type": "markdown",
   "id": "60b7ed80",
   "metadata": {},
   "source": [
    "2. Explication \n",
    "\n",
    "Pour répondre à la même question dans ce contexte, nous allons choisir un seuil (0.5 pour notre) :\n",
    "\n",
    "- intensité < 0.5 sera considéré comme Blond (B)\n",
    "- intensité > 0.5 sera considéré comme Dark (D)"
   ]
  },
  {
   "cell_type": "code",
   "execution_count": 12,
   "id": "54b248c0",
   "metadata": {},
   "outputs": [
    {
     "name": "stdout",
     "output_type": "stream",
     "text": [
      "P(G) = 0.49\n",
      "P(P) = 0.51\n",
      "P(B|G) = 0.3673469387755102\n",
      "P(T|G) = 0.40816326530612246\n",
      "P(B|P) = 0.45098039215686275\n",
      "P(T|P) = 0.5294117647058824\n"
     ]
    }
   ],
   "source": [
    "def est_blond(intensite, seuil=0.5):\n",
    "    return intensite < seuil\n",
    "\n",
    "def pg_continu(data):\n",
    "    nb_G = sum(1 for intensite, h, p in data if p == 'G')\n",
    "    return nb_G / len(data)\n",
    "\n",
    "def pp_continu(data):\n",
    "    nb_P = sum(1 for intensite, h, p in data if p == 'P')\n",
    "    return nb_P / len(data)\n",
    "\n",
    "def pbg_continu(data, seuil=0.5):\n",
    "    nb_blond_G, nb_G = 0, 0\n",
    "    for intensite, h, p in data:\n",
    "        if p == 'G':\n",
    "            nb_G += 1\n",
    "            if est_blond(intensite,seuil):\n",
    "                nb_blond_G += 1\n",
    "    return nb_blond_G / nb_G if nb_G > 0 else 0\n",
    "\n",
    "def ptg_continu(data):\n",
    "    nb_T_G, nb_G = 0, 0\n",
    "    for intensite, h, p in data:\n",
    "        if p == 'G':\n",
    "            nb_G += 1\n",
    "            if h == 'T':\n",
    "                nb_T_G += 1\n",
    "    return nb_T_G / nb_G if nb_G > 0 else 0\n",
    "\n",
    "def pbp_continu(data, seuil=0.5):\n",
    "    nb_blond_P, nb_P = 0, 0\n",
    "    for intensite, h, p in data:\n",
    "        if p == 'P':\n",
    "            nb_P += 1\n",
    "            if est_blond(intensite,seuil):\n",
    "                nb_blond_P += 1\n",
    "    return nb_blond_P / nb_P if nb_P > 0 else 0\n",
    "\n",
    "def ptp_continu(data):\n",
    "    nb_T_P, nb_P = 0, 0\n",
    "    for intensite, h, p in data:\n",
    "        if p == 'P':\n",
    "            nb_P += 1\n",
    "            if h == 'T':\n",
    "                nb_T_P += 1\n",
    "    return nb_T_P / nb_P if nb_P > 0 else 0\n",
    "print(\"P(G) =\", pg_continu(data_continu))\n",
    "print(\"P(P) =\", pp_continu(data_continu))\n",
    "print(\"P(B|G) =\", pbg_continu(data_continu))\n",
    "print(\"P(T|G) =\", ptg_continu(data_continu))\n",
    "print(\"P(B|P) =\", pbp_continu(data_continu))\n",
    "print(\"P(T|P) =\", ptp_continu(data_continu))"
   ]
  },
  {
   "cell_type": "markdown",
   "id": "c1b84184",
   "metadata": {},
   "source": [
    "3. Modifications dans les fonctions Python\n",
    "\n",
    "- Les fonctions comme pbg(data) devront être remplacées par une version qui compte selon un seuil d’intensité (ex. intensité < 0.5 = blond).\n",
    "\n",
    "- Les fonctions de type pg(data), pp(data) restent identiques car elles ne dépendent pas de la continuité."
   ]
  },
  {
   "cell_type": "code",
   "execution_count": 13,
   "id": "b6a24f73",
   "metadata": {},
   "outputs": [
    {
     "name": "stdout",
     "output_type": "stream",
     "text": [
      "Nationalité P avec proba MAP=0.624\n"
     ]
    }
   ],
   "source": [
    "# Exemple de modification avec naïve Bayes des valeurs continues\n",
    "def classer_individu_continu_naif(data, seuil=0.5):\n",
    "    pbtg = pbg_continu(data,seuil) * ptg_continu(data)\n",
    "    pbtp = pbp_continu(data,seuil) * ptp_continu(data)\n",
    "    pbt = pbtg * pg_continu(data) + pbtp * pp_continu(data)\n",
    "\n",
    "    p_G = (pg_continu(data) * pbtg) / pbt if pbt > 0 else 0\n",
    "    p_P = (pp_continu(data) * pbtp) / pbt if pbt > 0 else 0\n",
    "\n",
    "    if p_G > p_P:\n",
    "        return f\"Nationalité G avec proba MAP={p_G:.3f}\"\n",
    "    elif p_P > p_G:\n",
    "        return f\"Nationalité P avec proba MAP={p_P:.3f}\"\n",
    "    else:\n",
    "        return f\"Indécis (égalité, proba={p_G:.3f})\"\n",
    "print(classer_individu_continu_naif(data_continu))"
   ]
  },
  {
   "cell_type": "code",
   "execution_count": 14,
   "id": "3654f088",
   "metadata": {},
   "outputs": [
    {
     "name": "stdout",
     "output_type": "stream",
     "text": [
      "Nationalité P avec proba MAP=0.684\n"
     ]
    }
   ],
   "source": [
    "# Exemple de modification sans naïve Bayes des valeurs continues\n",
    "def classer_individu_continu_sans_naif(data, seuil=0.5):\n",
    "    nb_BT_G = sum(1 for intensite,h,p in data if est_blond(intensite,seuil) and h=='T' and p=='G')\n",
    "    nb_BT_P = sum(1 for intensite,h,p in data if est_blond(intensite,seuil) and h=='T' and p=='P')\n",
    "    nb_BT = nb_BT_G + nb_BT_P\n",
    "\n",
    "    p_G = nb_BT_G/nb_BT if nb_BT>0 else 0\n",
    "    p_P = nb_BT_P/nb_BT if nb_BT>0 else 0\n",
    "\n",
    "    if p_G > p_P:\n",
    "        return f\"Nationalité G avec proba MAP={p_G:.3f}\"\n",
    "    elif p_P > p_G:\n",
    "        return f\"Nationalité P avec proba MAP={p_P:.3f}\"\n",
    "    else:\n",
    "        return f\"Indécis (égalité, proba={p_G:.3f})\"\n",
    "print(classer_individu_continu_sans_naif(data_continu))"
   ]
  },
  {
   "cell_type": "code",
   "execution_count": 15,
   "id": "fb7f6d6f",
   "metadata": {},
   "outputs": [
    {
     "name": "stdout",
     "output_type": "stream",
     "text": [
      "MLE naif: ('P', {'G': 0.1499375260308205, 'P': 0.23875432525951557})\n"
     ]
    }
   ],
   "source": [
    "# Exemple du MLE avec naïve Bayes des valeurs continues\n",
    "def mle_naif_continu(data, seuil=0.5):\n",
    "    classes = set(p for _,_,p in data)\n",
    "    vraisemblances = {}\n",
    "    for c in classes:\n",
    "        nb_c = sum(1 for _,_,p in data if p==c)\n",
    "        nb_cheveux_c = sum(1 for intensite,h,p in data if p==c and est_blond(intensite,seuil))\n",
    "        nb_hauteur_c = sum(1 for intensite,h,p in data if p==c and h=='T')\n",
    "        p_cheveux = nb_cheveux_c/nb_c if nb_c>0 else 0\n",
    "        p_hauteur = nb_hauteur_c/nb_c if nb_c>0 else 0\n",
    "        vraisemblances[c] = p_cheveux * p_hauteur\n",
    "    best_class = max(vraisemblances, key=vraisemblances.get)\n",
    "    return best_class, vraisemblances\n",
    "print(\"MLE naif:\", mle_naif_continu(data_continu))"
   ]
  },
  {
   "cell_type": "code",
   "execution_count": 16,
   "id": "005dc1b0",
   "metadata": {},
   "outputs": [
    {
     "name": "stdout",
     "output_type": "stream",
     "text": [
      "MLE sans naif: ('P', {'G': 0.12244897959183673, 'P': 0.2549019607843137})\n"
     ]
    }
   ],
   "source": [
    "# Exemple du MLE sans naïve Bayes des valeurs continues\n",
    "def mle_sans_naif_continu(data, seuil=0.5):\n",
    "    classes = set(p for _,_,p in data)\n",
    "    vraisemblances = {}\n",
    "    for c in classes:\n",
    "        nb_c = sum(1 for _,_,p in data if p==c)\n",
    "        nb_obs_c = sum(1 for intensite,h,p in data if p==c and est_blond(intensite,seuil) and h=='T')\n",
    "        vraisemblances[c] = nb_obs_c/nb_c if nb_c>0 else 0\n",
    "    best_class = max(vraisemblances, key=vraisemblances.get)\n",
    "    return best_class, vraisemblances\n",
    "print(\"MLE sans naif:\", mle_sans_naif_continu(data_continu))"
   ]
  }
 ],
 "metadata": {
  "kernelspec": {
   "display_name": "Python 3",
   "language": "python",
   "name": "python3"
  },
  "language_info": {
   "codemirror_mode": {
    "name": "ipython",
    "version": 3
   },
   "file_extension": ".py",
   "mimetype": "text/x-python",
   "name": "python",
   "nbconvert_exporter": "python",
   "pygments_lexer": "ipython3",
   "version": "3.12.10"
  }
 },
 "nbformat": 4,
 "nbformat_minor": 5
}
