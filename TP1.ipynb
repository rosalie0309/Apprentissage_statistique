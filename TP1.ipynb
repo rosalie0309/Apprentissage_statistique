{
 "cells": [
  {
   "cell_type": "markdown",
   "id": "9ce1fb68",
   "metadata": {},
   "source": [
    "### TP1 d'Apprentissage Statistique "
   ]
  },
  {
   "cell_type": "markdown",
   "id": "80d6a83a",
   "metadata": {},
   "source": [
    "### A- Les données \n",
    "\n",
    "La fonction qui permet d'engendrer une matrice donc chaque valeur est une observation d'une personne avec 3 caractéristiques "
   ]
  },
  {
   "cell_type": "code",
   "execution_count": 14,
   "id": "9afd212e",
   "metadata": {},
   "outputs": [
    {
     "name": "stdout",
     "output_type": "stream",
     "text": [
      "[[('B', 'T', 'P'), ('D', 'S', 'G'), ('D', 'S', 'P')], [('B', 'T', 'G'), ('B', 'T', 'P'), ('B', 'T', 'P')], [('D', 'T', 'P'), ('B', 'T', 'P'), ('B', 'S', 'P')], [('D', 'S', 'G'), ('D', 'S', 'G'), ('B', 'S', 'G')], [('D', 'S', 'G'), ('B', 'S', 'P'), ('B', 'T', 'P')], [('D', 'S', 'G'), ('D', 'T', 'G'), ('B', 'S', 'P')], [('B', 'T', 'P'), ('D', 'T', 'P'), ('D', 'S', 'P')], [('B', 'S', 'P'), ('B', 'T', 'G'), ('D', 'S', 'G')], [('D', 'S', 'G'), ('D', 'S', 'G'), ('B', 'T', 'P')], [('B', 'S', 'P'), ('D', 'S', 'G'), ('B', 'T', 'P')], [('D', 'T', 'G'), ('B', 'T', 'G'), ('B', 'S', 'P')], [('B', 'T', 'P'), ('B', 'S', 'G'), ('D', 'T', 'P')], [('D', 'T', 'P'), ('D', 'T', 'P'), ('D', 'T', 'G')], [('B', 'T', 'P'), ('D', 'T', 'G'), ('B', 'S', 'G')], [('D', 'S', 'G'), ('B', 'S', 'P'), ('D', 'S', 'P')], [('D', 'T', 'G'), ('D', 'T', 'G'), ('D', 'T', 'G')], [('B', 'T', 'P'), ('D', 'S', 'P'), ('B', 'T', 'P')], [('D', 'T', 'P'), ('B', 'T', 'G'), ('D', 'T', 'G')], [('B', 'T', 'G'), ('B', 'S', 'G'), ('B', 'T', 'P')], [('D', 'T', 'G'), ('B', 'T', 'P'), ('B', 'S', 'P')], [('B', 'S', 'G'), ('B', 'S', 'P'), ('D', 'T', 'G')], [('D', 'S', 'G'), ('D', 'S', 'P'), ('D', 'S', 'G')], [('D', 'S', 'G'), ('D', 'T', 'G'), ('D', 'T', 'P')], [('B', 'S', 'P'), ('B', 'S', 'G'), ('D', 'T', 'P')], [('B', 'S', 'P'), ('B', 'T', 'G'), ('D', 'S', 'G')], [('B', 'T', 'G'), ('D', 'T', 'P'), ('D', 'T', 'G')], [('B', 'T', 'P'), ('B', 'T', 'P'), ('B', 'S', 'P')], [('D', 'S', 'P'), ('D', 'S', 'P'), ('D', 'S', 'G')], [('D', 'S', 'G'), ('D', 'S', 'P'), ('B', 'T', 'G')], [('B', 'S', 'P'), ('D', 'T', 'G'), ('D', 'T', 'P')], [('B', 'S', 'P'), ('D', 'S', 'P'), ('D', 'T', 'P')], [('B', 'T', 'P'), ('B', 'T', 'G'), ('B', 'T', 'G')], [('D', 'T', 'G'), ('B', 'T', 'G'), ('B', 'S', 'P')], [('B', 'S', 'P'), ('B', 'T', 'P'), ('B', 'T', 'P')], [('D', 'T', 'P'), ('B', 'T', 'G'), ('B', 'T', 'G')], [('D', 'S', 'P'), ('D', 'T', 'P'), ('D', 'S', 'G')], [('B', 'S', 'G'), ('B', 'T', 'P'), ('D', 'S', 'P')], [('B', 'T', 'G'), ('B', 'S', 'P'), ('D', 'T', 'G')], [('B', 'T', 'P'), ('D', 'T', 'G'), ('D', 'T', 'G')], [('D', 'T', 'G'), ('B', 'S', 'G'), ('D', 'T', 'G')], [('D', 'S', 'P'), ('B', 'T', 'P'), ('B', 'T', 'P')], [('B', 'T', 'P'), ('D', 'S', 'G'), ('D', 'S', 'P')], [('B', 'S', 'P'), ('D', 'T', 'P'), ('B', 'S', 'G')], [('B', 'T', 'P'), ('B', 'S', 'G'), ('D', 'S', 'P')], [('B', 'T', 'G'), ('D', 'S', 'P'), ('D', 'T', 'G')], [('B', 'T', 'P'), ('D', 'S', 'G'), ('B', 'T', 'P')], [('B', 'S', 'P'), ('B', 'S', 'P'), ('D', 'T', 'G')], [('B', 'S', 'G'), ('B', 'S', 'P'), ('D', 'S', 'G')], [('B', 'T', 'P'), ('D', 'S', 'P'), ('D', 'T', 'P')], [('D', 'T', 'P'), ('B', 'S', 'G'), ('B', 'S', 'G')], [('D', 'S', 'P'), ('D', 'S', 'P'), ('D', 'T', 'P')], [('D', 'T', 'P'), ('D', 'T', 'P'), ('D', 'S', 'P')], [('B', 'S', 'P'), ('D', 'S', 'P'), ('B', 'T', 'G')], [('B', 'S', 'G'), ('D', 'S', 'G'), ('D', 'S', 'G')], [('D', 'T', 'P'), ('B', 'S', 'P'), ('B', 'S', 'P')], [('D', 'S', 'G'), ('D', 'T', 'G'), ('B', 'S', 'G')], [('B', 'S', 'P'), ('D', 'T', 'G'), ('B', 'S', 'G')], [('B', 'S', 'P'), ('D', 'S', 'G'), ('D', 'T', 'P')], [('B', 'S', 'P'), ('B', 'T', 'G'), ('D', 'S', 'P')], [('D', 'T', 'P'), ('D', 'S', 'G'), ('D', 'S', 'P')], [('B', 'S', 'G'), ('B', 'T', 'P'), ('B', 'T', 'G')], [('B', 'T', 'P'), ('D', 'S', 'G'), ('D', 'T', 'G')], [('D', 'S', 'G'), ('B', 'S', 'P'), ('D', 'T', 'G')], [('B', 'S', 'G'), ('B', 'T', 'P'), ('D', 'T', 'P')], [('B', 'S', 'P'), ('D', 'S', 'P'), ('B', 'S', 'P')], [('D', 'T', 'P'), ('B', 'T', 'P'), ('B', 'T', 'P')], [('B', 'T', 'P'), ('B', 'S', 'P'), ('B', 'S', 'P')], [('B', 'S', 'G'), ('B', 'S', 'P'), ('B', 'T', 'P')], [('D', 'T', 'P'), ('B', 'S', 'G'), ('B', 'S', 'P')], [('D', 'S', 'P'), ('D', 'S', 'G'), ('B', 'T', 'G')], [('D', 'T', 'P'), ('B', 'S', 'G'), ('D', 'S', 'G')], [('B', 'S', 'P'), ('B', 'S', 'G'), ('D', 'T', 'G')], [('D', 'T', 'P'), ('D', 'S', 'G'), ('D', 'T', 'G')], [('B', 'S', 'P'), ('B', 'T', 'G'), ('B', 'T', 'P')], [('D', 'T', 'P'), ('D', 'S', 'P'), ('B', 'T', 'P')], [('B', 'S', 'G'), ('B', 'T', 'G'), ('D', 'T', 'P')], [('D', 'T', 'P'), ('D', 'S', 'P'), ('B', 'T', 'P')], [('D', 'S', 'P'), ('D', 'S', 'G'), ('B', 'S', 'P')], [('B', 'S', 'G'), ('D', 'T', 'P'), ('D', 'S', 'P')], [('D', 'T', 'P'), ('D', 'T', 'G'), ('B', 'S', 'G')], [('B', 'T', 'P'), ('D', 'T', 'P'), ('B', 'T', 'P')], [('B', 'S', 'G'), ('D', 'S', 'G'), ('D', 'T', 'G')], [('D', 'S', 'G'), ('D', 'T', 'G'), ('B', 'T', 'P')], [('B', 'T', 'G'), ('D', 'T', 'G'), ('D', 'T', 'P')], [('B', 'S', 'G'), ('B', 'S', 'G'), ('B', 'T', 'P')], [('D', 'S', 'G'), ('D', 'T', 'G'), ('B', 'T', 'G')], [('D', 'S', 'G'), ('B', 'S', 'P'), ('B', 'T', 'G')], [('B', 'T', 'P'), ('D', 'S', 'P'), ('B', 'T', 'P')], [('B', 'T', 'P'), ('B', 'S', 'G'), ('B', 'S', 'P')], [('B', 'T', 'P'), ('D', 'T', 'G'), ('D', 'T', 'G')], [('D', 'S', 'G'), ('D', 'S', 'P'), ('B', 'S', 'G')], [('B', 'T', 'G'), ('D', 'T', 'G'), ('B', 'S', 'P')], [('D', 'S', 'P'), ('B', 'T', 'P'), ('B', 'S', 'G')], [('B', 'T', 'P'), ('D', 'T', 'P'), ('D', 'T', 'G')], [('B', 'T', 'P'), ('B', 'S', 'G'), ('D', 'T', 'G')], [('B', 'T', 'G'), ('B', 'S', 'P'), ('D', 'T', 'P')], [('B', 'S', 'G'), ('B', 'S', 'P'), ('D', 'T', 'P')], [('B', 'S', 'P'), ('D', 'T', 'P'), ('B', 'S', 'G')], [('D', 'T', 'G'), ('B', 'T', 'G'), ('B', 'T', 'G')], [('D', 'S', 'P'), ('B', 'T', 'G'), ('D', 'T', 'P')]]\n"
     ]
    }
   ],
   "source": [
    "import random\n",
    "import numpy as np \n",
    "\n",
    "def generer_tableau(n): # n est le nombre de lignes de la matrice, le nombre de colonnes est 3\n",
    "\n",
    "    # Nous définissons les domaines de chaque observation, dans lesquels nous allons faire la sélection des valeurs \n",
    "    # pour former la matrice \n",
    "\n",
    "    cheveux = ['B', 'D']   # Blond, Dark\n",
    "    hauteur = ['T', 'S']   # Tall, Short\n",
    "    pays = ['G', 'P']      # Greenland, Poland\n",
    "    \n",
    "    tableau = []\n",
    "    for _ in range(n):  # pour chaque ligne\n",
    "        ligne = []\n",
    "        for _ in range(3):  # 3 colonnes\n",
    "            c = random.choice(cheveux)\n",
    "            h = random.choice(hauteur)\n",
    "            p = random.choice(pays)\n",
    "            ligne.append((c, h, p))  # un triplet\n",
    "        tableau.append(ligne)\n",
    "    return tableau\n",
    "\n",
    "# Générons une matrice un peu plus grande avec 100 lignes \n",
    "print(generer_tableau(100))\n"
   ]
  },
  {
   "cell_type": "code",
   "execution_count": 17,
   "id": "7fa0a7d7",
   "metadata": {},
   "outputs": [],
   "source": [
    "# La matrice que nous allons utiliser \n",
    "\n",
    "# Pour controler l'aléa \n",
    "random.seed(42)\n",
    "data = generer_tableau(100)\n",
    "\n",
    "# Transformer en ma"
   ]
  },
  {
   "cell_type": "markdown",
   "id": "8800278f",
   "metadata": {},
   "source": [
    "### B- Questions : Origine le plus probable d'un individu grand (T) et qui a les cheveux Blond (B)\n",
    "\n",
    "Les fonctions que nous allons écrire dans la suite sont par rapport à la matrice que nous avons définie\n",
    "\n",
    "### C- Maximum a posteriori\n",
    "Nous allons utiliser deux versions de cette métrique pour conclure sur la question:  \n",
    "- Une qui se fera avec naive bayes \n",
    "- Une autre qui ne tiendra pas compte de navive bayes "
   ]
  },
  {
   "cell_type": "code",
   "execution_count": 27,
   "id": "2a962f65",
   "metadata": {},
   "outputs": [
    {
     "name": "stdout",
     "output_type": "stream",
     "text": [
      "146\n",
      "75\n",
      "33\n"
     ]
    }
   ],
   "source": [
    "# Dans le cadre de naive bayes\n",
    "\n",
    "# calcul de P(G/T,B) = P(G)*P(B,T/G)/P(B,T) se calcul grâce à la matrice \n",
    "\n",
    "# P(G), on compte les individu qui sont G dans la matrice et on divise par le nombre total d'observations dans la matrice \n",
    "\n",
    "nb_G = 0 # Compter le nombre de personnes qui sont d'origine G dans la matrice \n",
    "for ligne in data:\n",
    "    for indiv in ligne:\n",
    "        if indiv[2] == 'G':\n",
    "            nb_G += 1\n",
    "\n",
    "print(nb_G)\n",
    "\n",
    "# Le nombre d'observations total est de n*3 ici 100 * 3 = 300\n",
    "# donc P(G) = 146/300 \n",
    "\n",
    "# P(B,T), on compte le nombre de fois qu'on a (B,T) ensemble divisé par le nombre total d'observations\n",
    "\n",
    "nb_BT = 0\n",
    "for ligne in data:\n",
    "    for indiv in ligne:\n",
    "        if (indiv[0] == 'B' and indiv[1] == 'T' ):\n",
    "            nb_BT += 1\n",
    "print(nb_BT)\n",
    "\n",
    "# Ainsi P(B,T) = 75/300\n",
    "\n",
    "# Maintenant la probabilité P(B,T/G) est calculé par le nombre de fois qu'on a (B,T,G) divisé par le nombre de personne G : \n",
    "# c'est ça qu'on appelle la vraisemblance\n",
    "\n",
    "nb_BTG = 0\n",
    "for ligne in data:\n",
    "    for indiv in ligne:\n",
    "        if (indiv[0] == 'B' and indiv[1] == 'T' and indiv[2] == 'G'):\n",
    "            nb_BTG += 1\n",
    "        \n",
    "# On a déjà le nombre de personnes qui sont G : nb_G \n",
    "print(nb_BTG)\n",
    "\n",
    "# Ainsi P(B,T/G) = nb_BTG / nb_G = 33/146 \n"
   ]
  },
  {
   "cell_type": "markdown",
   "id": "9ed57910",
   "metadata": {},
   "source": [
    "Faisons pareille pour la proba a posteriori P(P/B,T)"
   ]
  },
  {
   "cell_type": "code",
   "execution_count": 29,
   "id": "46c11842",
   "metadata": {},
   "outputs": [
    {
     "name": "stdout",
     "output_type": "stream",
     "text": [
      "154\n",
      "75\n",
      "42\n"
     ]
    }
   ],
   "source": [
    "# Dans le cadre de naive bayes\n",
    "\n",
    "# calcul de P(P/T,B) = P(P)*P(B,T/G)/P(B,T) se calcul grâce à la matrice \n",
    "\n",
    "# P(P), on compte les individu qui sont P dans la matrice et on divise par le nombre total d'observations dans la matrice \n",
    "\n",
    "nb_P = 0 # Compter le nombre de personnes qui sont d'origine P dans la matrice \n",
    "for ligne in data:\n",
    "    for indiv in ligne:\n",
    "        if indiv[2] == 'P':\n",
    "            nb_P += 1\n",
    "\n",
    "print(nb_P)\n",
    "\n",
    "# Le nombre d'observations total est de n*3 ici 100 * 3 = 300\n",
    "# donc P(P) = 154/300 \n",
    "\n",
    "# P(B,T), on compte le nombre de fois qu'on a (B,T) ensemble divisé par le nombre total d'observations\n",
    "\n",
    "nb_BT = 0\n",
    "for ligne in data:\n",
    "    for indiv in ligne:\n",
    "        if (indiv[0] == 'B' and indiv[1] == 'T' ):\n",
    "            nb_BT += 1\n",
    "print(nb_BT)\n",
    "\n",
    "# Ainsi P(B,T) = 75/300\n",
    "\n",
    "# Maintenant la probabilité P(B,T/P) est calculé par le nombre de fois qu'on a (B,T,P) divisé par le nombre de personne P : \n",
    "# c'est ça qu'on appelle la vraisemblance\n",
    "\n",
    "nb_BTP = 0\n",
    "for ligne in data:\n",
    "    for indiv in ligne:\n",
    "        if (indiv[0] == 'B' and indiv[1] == 'T' and indiv[2] == 'P'):\n",
    "            nb_BTP += 1\n",
    "        \n",
    "# On a déjà le nombre de personnes qui sont P : nb_P \n",
    "print(nb_BTP)\n",
    "\n",
    "# Ainsi P(B,T/P) = nb_BTP / nb_P = 33/146 \n"
   ]
  },
  {
   "cell_type": "code",
   "execution_count": null,
   "id": "94a3dbf0",
   "metadata": {},
   "outputs": [
    {
     "name": "stdout",
     "output_type": "stream",
     "text": [
      "0.44\n",
      "0.5599999999999999\n"
     ]
    }
   ],
   "source": [
    "## Calculons les deux probabilités et défissons le maximum \n",
    "\n",
    "## La probabilité P(G/T,B)\n",
    "\n",
    "p1 = (nb_G/300)*(nb_BTG/nb_G)/(nb_BT/300)\n",
    "\n",
    "print(p1)\n",
    "\n",
    "p2 = (nb_P/300)*(nb_BTP/nb_P)/(nb_BT/300)\n",
    "\n",
    "print(p2)"
   ]
  },
  {
   "cell_type": "markdown",
   "id": "6e1d9ee8",
   "metadata": {},
   "source": [
    "### Conclusion sur la nationalité avec la première approche: \n",
    "\n",
    "Nous voyons que la probabilité de la nationalité P est plus grande et donc cette personne est de nationalité P "
   ]
  },
  {
   "cell_type": "markdown",
   "id": "3b50186a",
   "metadata": {},
   "source": [
    "### Définissons une fonction qui donnera donc le maximum a posteriori afin de trouver la nationalité de la personne\n",
    "\n",
    "nous allons regrouper les calculs dans une fonction qui calcul simplement la probabilité d'être l'une des deux nationalités en sachant que la couleur des cheveux est B et que la hauteur est T, puis retourne la proba max et conclu sur la nationalité finale \n",
    "\n",
    "Nous ferons en sorte que notre fonction puisse prendre en paramètre un jeu de données quelconque "
   ]
  },
  {
   "cell_type": "code",
   "execution_count": 47,
   "id": "f200b1da",
   "metadata": {},
   "outputs": [],
   "source": [
    "# La version qui calcul en utilisant le théorème de naive bayes \n",
    "def maxAP_v1(data):\n",
    "    # cas de la nationalité G : calcul de P(G/B,T)\n",
    "    #1. calculons P(G)\n",
    "    nb_G = 0 # Compter le nombre de personnes qui sont d'origine G dans la matrice \n",
    "    for ligne in data:\n",
    "        for indiv in ligne:\n",
    "            if indiv[2] == 'G':\n",
    "                nb_G += 1\n",
    "    pg = nb_G/(len(data)*len(data[0]))\n",
    "\n",
    "    #2. Calculons P(B,T)\n",
    "    nb_BT = 0\n",
    "    for ligne in data:\n",
    "        for indiv in ligne:\n",
    "            if (indiv[0] == 'B' and indiv[1] == 'T' ):\n",
    "                nb_BT += 1\n",
    "    pbt = nb_BT/(len(data)*len(data[0]))\n",
    "\n",
    "    #3. Calculons P(B,T/G): ici nous devons utiliser l'hypothèse d'indépendance de naive bayes \n",
    "    # P(B,T/G) = P(B/G)*P(T/G)\n",
    "    # Avec P(B/G) = nombre indi avec B, G divisé par le nombre indiv avec G\n",
    "    nb_B = 0\n",
    "    nb_T = 0\n",
    "    nb_BG = 0\n",
    "    nb_TG = 0\n",
    "    for ligne in data:\n",
    "        for indiv in ligne:\n",
    "            if (indiv[0] == 'B'):\n",
    "                nb_B += 1\n",
    "            if (indiv[0] == 'T'):\n",
    "                nb_T += 1\n",
    "            if (indiv[0] == 'B' and indiv[2] == 'G'):\n",
    "                nb_BG += 1\n",
    "            if (indiv[0] == 'T' and indiv[2] == 'G'):\n",
    "                nb_TG += 1\n",
    "\n",
    "    pbg = nb_BG / nb_G\n",
    "    ptg = nb_TG / nb_G\n",
    "\n",
    "    pbtg = pbg*ptg \n",
    "    # 4. Calcul final de P(G/B,T)\n",
    "    p1 = (pg*pbtg)/pbt \n",
    "\n",
    "    # cas de la nationnalité P: calcul de P(P/B,T)\n",
    "    #1. calculons P(P)\n",
    "    nb_P = 0 # Compter le nombre de personnes qui sont d'origine P dans la matrice \n",
    "    for ligne in data:\n",
    "        for indiv in ligne:\n",
    "            if indiv[2] == 'P':\n",
    "                nb_P += 1\n",
    "    pp = nb_P/(len(data)*len(data[0]))\n",
    "    \n",
    "    #2. Calculons P(B,T)\n",
    "    # La valeur de P(B,T) reste pareil \n",
    "\n",
    "    #3. Calculons P(B,T/P): on fait pareillement que précédemment \n",
    "    # P(B,T/P) = P(B/P)*P(T/P)\n",
    "    # Avec P(B/P) = nombre indi avec B, P divisé par le nombre indiv avec P\n",
    "    nb_B = 0\n",
    "    nb_T = 0\n",
    "    nb_BP = 0\n",
    "    nb_TP = 0\n",
    "    for ligne in data:\n",
    "        for indiv in ligne:\n",
    "            if (indiv[0] == 'B'):\n",
    "                nb_B += 1\n",
    "            if (indiv[0] == 'T'):\n",
    "                nb_T += 1\n",
    "            if (indiv[0] == 'B' and indiv[2] == 'P'):\n",
    "                nb_BP += 1\n",
    "            if (indiv[0] == 'T' and indiv[2] == 'P'):\n",
    "                nb_TP += 1\n",
    "\n",
    "    pbp = nb_BP / nb_P\n",
    "    ptp = nb_TP / nb_P\n",
    "\n",
    "    pbtp = pbp*ptp\n",
    "    # 4. Calcul final de P(P/B,T)\n",
    "    p2 = (pp*pbtp)/pbt \n",
    "\n",
    "    # Comparaison des deux probabilités et affichage du message final \n",
    "    if (p1>p2):\n",
    "        print(f\"L'individu est de nationalité G avec une proba de : {p1}\")\n",
    "    else:\n",
    "        print(f\"L'individu est de nationalité P avec une proba de : {p2}\")"
   ]
  },
  {
   "cell_type": "code",
   "execution_count": null,
   "id": "6439aa96",
   "metadata": {},
   "outputs": [],
   "source": [
    "## Nous allons reprendre le calcul de probabilité en plusieurs petites fonctions que nous allons utiliser dans une fonction générale \n",
    "\n",
    "##1- Version avec le théorème de bayes\n",
    "\n",
    "\"\"\"\n",
    "Nous aurons besoin de caluler P(G), P(P), P(B,T/G), P(B,T/P) et P(B,T)\n",
    "\n",
    "P(G) = nombre de personnes de nationalité G / nombre total d'individus\n",
    "P(P) = nombre de personnes de nationalité P / nombre total d'individus\n",
    "\n",
    "P(B,T/G) = P(B/G)*P(T/G) via l'hypothèse d'indépendance de naive bayes\n",
    "P(B/G) = nombre de personnes aux cheveux Blonds / nombre de personnes de nationalité G\n",
    "P(T/G) = nombre de personnes de hauteur T / nombre de personnes de nationalité G\n",
    "\n",
    "P(B,T/P) = P(B/P)*P(T/P) pareil que précédemment pour la nationalité G\n",
    "\n",
    "\"\"\""
   ]
  },
  {
   "cell_type": "code",
   "execution_count": 48,
   "id": "af148773",
   "metadata": {},
   "outputs": [
    {
     "name": "stdout",
     "output_type": "stream",
     "text": [
      "L'individu est de nationalité P avec une proba de : 0.0\n"
     ]
    }
   ],
   "source": [
    "maxAP_v1(data)"
   ]
  },
  {
   "cell_type": "markdown",
   "id": "e66f8253",
   "metadata": {},
   "source": [
    "### Reprenons la fonction cette fois sans utiliser le théorème de naive bayes\n",
    "\n",
    "Il sera question maintenant de faire le calcul de proba conditionnelle\n",
    "\n",
    "P(G/B,T) = P(B,T,G)/P(B,T) un peu comme la proba de l'intersection de G avec (B,T) divisé par P(B,T)\n",
    "\n",
    "P(P/B,T): on fait pareil, on regarde le max et on conclu sur la nationalité "
   ]
  },
  {
   "cell_type": "code",
   "execution_count": 41,
   "id": "a29102a9",
   "metadata": {},
   "outputs": [],
   "source": [
    "## La version 2 de cette fonction est la suivante: \n",
    "def maxAP_v2(data):\n",
    "    N = len(data) * len(data[0])  # total d'observations\n",
    "    \n",
    "    # Compter P(B,T,G)\n",
    "    nb_BTG = 0\n",
    "    # Compter P(B,T,P)\n",
    "    nb_BTP = 0\n",
    "    # Compter P(B,T)\n",
    "    nb_BT = 0\n",
    "    \n",
    "    for ligne in data:\n",
    "        for indiv in ligne:\n",
    "            if indiv[0] == 'B' and indiv[1] == 'T':\n",
    "                nb_BT += 1\n",
    "                if indiv[2] == 'G':\n",
    "                    nb_BTG += 1\n",
    "                elif indiv[2] == 'P':\n",
    "                    nb_BTP += 1\n",
    "    \n",
    "    # Probas conditionnelles directes\n",
    "    p1 = (nb_BTG / N) / (nb_BT / N)   # = nb_BTG / nb_BT\n",
    "    p2 = (nb_BTP / N) / (nb_BT / N)   # = nb_BTP / nb_BT\n",
    "    \n",
    "    if p1 > p2:\n",
    "        print(f\"L'individu est de nationalité G avec une proba de : {p1}\")\n",
    "    else:\n",
    "        print(f\"L'individu est de nationalité P avec une proba de : {p2}\")\n"
   ]
  },
  {
   "cell_type": "code",
   "execution_count": 42,
   "id": "c8ab6824",
   "metadata": {},
   "outputs": [
    {
     "name": "stdout",
     "output_type": "stream",
     "text": [
      "L'individu est de nationalité P avec une proba de : 0.56\n"
     ]
    }
   ],
   "source": [
    "maxAP_v2(data)"
   ]
  }
 ],
 "metadata": {
  "kernelspec": {
   "display_name": "Python 3",
   "language": "python",
   "name": "python3"
  },
  "language_info": {
   "codemirror_mode": {
    "name": "ipython",
    "version": 3
   },
   "file_extension": ".py",
   "mimetype": "text/x-python",
   "name": "python",
   "nbconvert_exporter": "python",
   "pygments_lexer": "ipython3",
   "version": "3.12.10"
  }
 },
 "nbformat": 4,
 "nbformat_minor": 5
}
