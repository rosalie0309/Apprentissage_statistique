{
 "cells": [
  {
   "cell_type": "markdown",
   "id": "9ce1fb68",
   "metadata": {},
   "source": [
    "### TP1 d'Apprentissage Statistique "
   ]
  },
  {
   "cell_type": "markdown",
   "id": "80d6a83a",
   "metadata": {},
   "source": [
    "### A- Les données \n",
    "\n",
    "La fonction qui permet d'engendrer une matrice donc chaque valeur est une observation d'une personne avec 3 caractéristiques "
   ]
  },
  {
   "cell_type": "code",
   "execution_count": 2,
   "id": "9afd212e",
   "metadata": {},
   "outputs": [
    {
     "name": "stdout",
     "output_type": "stream",
     "text": [
      "[[('D', 'T', 'G'), ('D', 'T', 'G'), ('D', 'T', 'P')], [('B', 'S', 'P'), ('B', 'S', 'P'), ('D', 'S', 'P')], [('D', 'T', 'G'), ('D', 'T', 'P'), ('D', 'T', 'P')], [('D', 'S', 'G'), ('B', 'T', 'P'), ('B', 'T', 'P')], [('D', 'S', 'P'), ('B', 'T', 'G'), ('B', 'T', 'P')], [('D', 'S', 'P'), ('B', 'T', 'P'), ('D', 'S', 'P')], [('D', 'T', 'G'), ('D', 'T', 'P'), ('D', 'S', 'G')], [('D', 'S', 'G'), ('B', 'S', 'G'), ('D', 'T', 'G')], [('B', 'S', 'P'), ('D', 'T', 'G'), ('D', 'S', 'P')], [('D', 'T', 'P'), ('D', 'T', 'P'), ('B', 'S', 'P')], [('D', 'S', 'G'), ('D', 'S', 'P'), ('D', 'T', 'P')], [('D', 'S', 'G'), ('B', 'S', 'P'), ('D', 'T', 'G')], [('D', 'T', 'G'), ('D', 'T', 'P'), ('B', 'T', 'P')], [('B', 'T', 'G'), ('D', 'T', 'G'), ('D', 'S', 'P')], [('B', 'S', 'G'), ('B', 'T', 'P'), ('D', 'T', 'G')], [('D', 'T', 'G'), ('B', 'T', 'G'), ('B', 'T', 'G')], [('D', 'S', 'P'), ('B', 'T', 'P'), ('D', 'T', 'G')], [('B', 'S', 'G'), ('B', 'T', 'P'), ('B', 'T', 'P')], [('B', 'T', 'G'), ('D', 'T', 'G'), ('B', 'S', 'G')], [('B', 'S', 'P'), ('D', 'S', 'P'), ('B', 'S', 'P')], [('D', 'T', 'P'), ('B', 'T', 'G'), ('D', 'T', 'P')], [('D', 'S', 'G'), ('B', 'S', 'P'), ('D', 'S', 'P')], [('D', 'T', 'G'), ('D', 'S', 'G'), ('B', 'S', 'P')], [('B', 'T', 'G'), ('B', 'T', 'P'), ('B', 'S', 'G')], [('D', 'S', 'P'), ('B', 'T', 'P'), ('B', 'T', 'G')], [('B', 'T', 'G'), ('D', 'S', 'G'), ('B', 'T', 'P')], [('D', 'T', 'P'), ('D', 'T', 'G'), ('D', 'S', 'P')], [('D', 'S', 'P'), ('D', 'T', 'G'), ('D', 'T', 'G')], [('D', 'S', 'G'), ('B', 'S', 'G'), ('B', 'S', 'P')], [('B', 'T', 'P'), ('D', 'S', 'P'), ('B', 'T', 'P')], [('D', 'S', 'P'), ('B', 'S', 'G'), ('D', 'T', 'P')], [('D', 'T', 'G'), ('B', 'S', 'G'), ('B', 'S', 'P')], [('D', 'T', 'P'), ('B', 'T', 'G'), ('B', 'S', 'P')], [('D', 'T', 'G'), ('D', 'T', 'G'), ('D', 'T', 'G')], [('B', 'T', 'G'), ('D', 'T', 'G'), ('B', 'S', 'G')], [('D', 'T', 'P'), ('D', 'T', 'P'), ('D', 'T', 'G')], [('B', 'S', 'G'), ('B', 'T', 'G'), ('D', 'T', 'G')], [('D', 'S', 'P'), ('B', 'T', 'P'), ('D', 'S', 'G')], [('B', 'S', 'P'), ('B', 'S', 'P'), ('B', 'S', 'P')], [('D', 'T', 'P'), ('D', 'S', 'P'), ('D', 'T', 'G')], [('B', 'S', 'P'), ('D', 'S', 'G'), ('D', 'T', 'G')], [('B', 'S', 'P'), ('D', 'T', 'G'), ('B', 'T', 'P')], [('D', 'T', 'G'), ('D', 'T', 'P'), ('D', 'T', 'G')], [('D', 'S', 'P'), ('D', 'T', 'P'), ('D', 'S', 'G')], [('B', 'S', 'G'), ('B', 'T', 'P'), ('B', 'T', 'P')], [('D', 'T', 'P'), ('D', 'T', 'G'), ('D', 'T', 'G')], [('B', 'T', 'P'), ('D', 'S', 'P'), ('D', 'T', 'G')], [('B', 'T', 'G'), ('D', 'T', 'P'), ('B', 'T', 'P')], [('B', 'S', 'G'), ('D', 'S', 'G'), ('D', 'S', 'G')], [('B', 'T', 'P'), ('B', 'S', 'G'), ('B', 'S', 'G')], [('D', 'S', 'P'), ('D', 'S', 'P'), ('B', 'T', 'P')], [('B', 'T', 'G'), ('D', 'T', 'P'), ('D', 'S', 'G')], [('B', 'T', 'P'), ('B', 'S', 'G'), ('B', 'T', 'P')], [('B', 'T', 'P'), ('D', 'S', 'G'), ('D', 'S', 'P')], [('D', 'T', 'P'), ('B', 'S', 'G'), ('D', 'T', 'G')], [('B', 'T', 'P'), ('D', 'S', 'G'), ('D', 'T', 'P')], [('D', 'S', 'P'), ('D', 'S', 'P'), ('B', 'T', 'G')], [('B', 'S', 'P'), ('B', 'T', 'P'), ('B', 'S', 'G')], [('B', 'S', 'P'), ('D', 'T', 'P'), ('B', 'S', 'G')], [('B', 'S', 'P'), ('D', 'T', 'P'), ('D', 'S', 'G')], [('D', 'S', 'P'), ('B', 'S', 'G'), ('B', 'S', 'P')], [('B', 'S', 'G'), ('B', 'S', 'P'), ('D', 'T', 'G')], [('B', 'T', 'P'), ('D', 'T', 'G'), ('B', 'T', 'G')], [('B', 'S', 'G'), ('D', 'S', 'G'), ('D', 'S', 'G')], [('D', 'S', 'P'), ('D', 'T', 'P'), ('D', 'S', 'G')], [('D', 'S', 'P'), ('D', 'T', 'P'), ('B', 'T', 'G')], [('B', 'S', 'P'), ('B', 'T', 'P'), ('D', 'T', 'P')], [('B', 'T', 'P'), ('B', 'S', 'P'), ('D', 'S', 'P')], [('D', 'S', 'G'), ('B', 'S', 'P'), ('B', 'T', 'G')], [('D', 'T', 'P'), ('D', 'S', 'G'), ('D', 'S', 'P')], [('B', 'S', 'P'), ('B', 'S', 'G'), ('D', 'S', 'G')], [('B', 'S', 'G'), ('B', 'T', 'P'), ('B', 'T', 'P')], [('D', 'S', 'G'), ('B', 'S', 'P'), ('B', 'T', 'G')], [('B', 'S', 'G'), ('B', 'T', 'G'), ('B', 'T', 'G')], [('B', 'S', 'P'), ('B', 'T', 'P'), ('B', 'T', 'P')], [('B', 'T', 'G'), ('D', 'T', 'G'), ('D', 'S', 'P')], [('B', 'T', 'G'), ('D', 'T', 'G'), ('D', 'S', 'P')], [('D', 'T', 'P'), ('B', 'S', 'P'), ('D', 'T', 'G')], [('D', 'T', 'G'), ('D', 'T', 'P'), ('D', 'T', 'G')], [('D', 'T', 'G'), ('D', 'T', 'P'), ('B', 'S', 'P')], [('B', 'T', 'P'), ('B', 'S', 'P'), ('B', 'S', 'G')], [('B', 'T', 'G'), ('B', 'T', 'G'), ('B', 'T', 'G')], [('D', 'S', 'G'), ('D', 'T', 'G'), ('B', 'S', 'G')], [('B', 'S', 'G'), ('D', 'S', 'P'), ('D', 'T', 'P')], [('D', 'T', 'G'), ('B', 'S', 'P'), ('D', 'S', 'G')], [('B', 'T', 'P'), ('B', 'T', 'P'), ('B', 'T', 'P')], [('B', 'T', 'G'), ('D', 'T', 'P'), ('B', 'S', 'P')], [('B', 'T', 'G'), ('B', 'T', 'P'), ('D', 'S', 'G')], [('B', 'S', 'G'), ('D', 'T', 'G'), ('D', 'S', 'G')], [('D', 'S', 'P'), ('D', 'T', 'G'), ('D', 'T', 'P')], [('B', 'T', 'G'), ('B', 'T', 'G'), ('B', 'T', 'P')], [('B', 'S', 'G'), ('D', 'S', 'P'), ('B', 'T', 'P')], [('D', 'T', 'G'), ('B', 'S', 'G'), ('B', 'S', 'P')], [('D', 'S', 'G'), ('D', 'S', 'G'), ('D', 'T', 'G')], [('D', 'S', 'P'), ('B', 'S', 'G'), ('D', 'T', 'P')], [('B', 'T', 'G'), ('D', 'S', 'G'), ('D', 'S', 'G')], [('D', 'T', 'G'), ('B', 'S', 'P'), ('B', 'T', 'G')], [('B', 'T', 'P'), ('D', 'S', 'G'), ('D', 'T', 'P')], [('B', 'S', 'P'), ('B', 'S', 'G'), ('B', 'S', 'P')], [('D', 'T', 'P'), ('D', 'S', 'P'), ('D', 'S', 'P')]]\n"
     ]
    }
   ],
   "source": [
    "import random\n",
    "import numpy as np \n",
    "\n",
    "def generer_tableau(n): # n est le nombre de lignes de la matrice, le nombre de colonnes est 3\n",
    "\n",
    "    # Nous définissons les domaines de chaque observation, dans lesquels nous allons faire la sélection des valeurs \n",
    "    # pour former la matrice \n",
    "\n",
    "    cheveux = ['B', 'D']   # Blond, Dark\n",
    "    hauteur = ['T', 'S']   # Tall, Short\n",
    "    pays = ['G', 'P']      # Greenland, Poland\n",
    "    \n",
    "    tableau = []\n",
    "    for _ in range(n):  # pour chaque ligne\n",
    "        ligne = []\n",
    "        for _ in range(3):  # 3 colonnes\n",
    "            c = random.choice(cheveux)\n",
    "            h = random.choice(hauteur)\n",
    "            p = random.choice(pays)\n",
    "            ligne.append((c, h, p))  # un triplet\n",
    "        tableau.append(ligne)\n",
    "    return tableau\n",
    "\n",
    "# Générons une matrice un peu plus grande avec 100 lignes \n",
    "print(generer_tableau(100))\n"
   ]
  },
  {
   "cell_type": "code",
   "execution_count": null,
   "id": "7fa0a7d7",
   "metadata": {},
   "outputs": [],
   "source": [
    "# La matrice que nous allons utiliser \n",
    "\n",
    "# Pour controler l'aléa \n",
    "random.seed(42)\n",
    "data = generer_tableau(100)"
   ]
  },
  {
   "cell_type": "markdown",
   "id": "8800278f",
   "metadata": {},
   "source": [
    "### B- Questions : Origine le plus probable d'un individu grand (T) et qui a les cheveux Blond (B)\n",
    "\n",
    "Les fonctions que nous allons écrire dans la suite sont par rapport à la matrice que nous avons définie\n",
    "\n",
    "### C- Maximum a posteriori\n",
    "Nous allons utiliser deux versions de cette métrique pour conclure sur la question:  \n",
    "- Une qui se fera avec naive bayes \n",
    "- Une autre qui ne tiendra pas compte de navive bayes : se basera uniquement sur les fréquences d'apparution, via la formule des probabilités conditionnelles"
   ]
  },
  {
   "cell_type": "code",
   "execution_count": null,
   "id": "a46fec79",
   "metadata": {},
   "outputs": [],
   "source": [
    "## Nous allons donc faire le calcul de probabilité avec plusieurs petites fonctions que nous allons utiliser\n",
    "# par la suite dans une fonction générale \n",
    "\n",
    "##1- Version avec le théorème de bayes\n",
    "\n",
    "\"\"\"\n",
    "Il s'agit de calculer deux probabilités a posteriori et de prendre le maximum afin de conclure sur la nationalité de l'individu\n",
    "Les formules sont les suivantes: \n",
    "\n",
    "P(G/B,T) = P(G)*P(B,T/G) / P(B,T)\n",
    "P(P/B,T) = P(P)*P(B,T/P) / P(B,T)\n",
    "\n",
    "Nous aurons besoin de caluler :\n",
    "P(G): pg(), \n",
    "P(P): pp(), \n",
    "P(B,T/G): pbtg(), \n",
    "P(B,T/P): pbtp() \n",
    "et P(B,T): pbt()\n",
    "\n",
    "P(G) = nombre de personnes de nationalité G / nombre total d'individus\n",
    "P(P) = nombre de personnes de nationalité P / nombre total d'individus\n",
    "\n",
    "P(B,T/G) = P(B/G)*P(T/G) via l'hypothèse d'indépendance de naive bayes\n",
    "P(B/G) : pbg() = nombre de personnes aux cheveux Blonds / nombre de personnes de nationalité G\n",
    "P(T/G) : ptg() = nombre de personnes de hauteur T / nombre de personnes de nationalité G\n",
    "\n",
    "P(B,T/P) = P(B/P)*P(T/P) pareil que précédemment pour la nationalité G\n",
    "P(B/P) : pbp() = nombre de personnes aux cheveux Blonds / nombre de personnes de nationalité P\n",
    "P(T/P) : ptp() = nombre de personnes de hauteur T / nombre de personnes de nationalité P\n",
    "\n",
    "\"\"\"\n",
    "\n",
    "\n",
    "# -------------- Fonctions utilitaires -------------------- #\n",
    "\n",
    "\n",
    "def pg(data):\n",
    "    nb_G = 0\n",
    "    nb_Total = len(data) * len(data[0])\n",
    "    for ligne in data:\n",
    "        for indiv in ligne:\n",
    "            if indiv[2] == 'G':\n",
    "                nb_G += 1\n",
    "    return nb_G / nb_Total\n",
    "\n",
    "def pp(data):\n",
    "    nb_P = 0\n",
    "    nb_Total = len(data) * len(data[0])\n",
    "    for ligne in data:\n",
    "        for indiv in ligne:\n",
    "            if indiv[2] == 'P':\n",
    "                nb_P += 1\n",
    "    return nb_P / nb_Total\n",
    "\n",
    "def pbg(data):\n",
    "    nb_blond_G, nb_G = 0, 0\n",
    "    for ligne in data:\n",
    "        for indiv in ligne:\n",
    "            if indiv[2] == 'G':\n",
    "                nb_G += 1\n",
    "                if indiv[0] == 'B':  # cheveux blonds\n",
    "                    nb_blond_G += 1\n",
    "    return nb_blond_G / nb_G if nb_G > 0 else 0\n",
    "\n",
    "def ptg(data):\n",
    "    nb_T_G, nb_G = 0, 0\n",
    "    for ligne in data:\n",
    "        for indiv in ligne:\n",
    "            if indiv[2] == 'G':\n",
    "                nb_G += 1\n",
    "                if indiv[1] == 'T':\n",
    "                    nb_T_G += 1\n",
    "    return nb_T_G / nb_G if nb_G > 0 else 0\n",
    "\n",
    "def pbp(data):\n",
    "    nb_blond_P, nb_P = 0, 0\n",
    "    for ligne in data:\n",
    "        for indiv in ligne:\n",
    "            if indiv[2] == 'P':\n",
    "                nb_P += 1\n",
    "                if indiv[0] == 'B':  # cheveux blonds\n",
    "                    nb_blond_P += 1\n",
    "    return nb_blond_P / nb_P if nb_P > 0 else 0\n",
    "\n",
    "def ptp(data):\n",
    "    nb_T_P, nb_P = 0, 0\n",
    "    for ligne in data:\n",
    "        for indiv in ligne:\n",
    "            if indiv[2] == 'P':\n",
    "                nb_P += 1\n",
    "                if indiv[1] == 'T':\n",
    "                    nb_T_P += 1\n",
    "    return nb_T_P / nb_P if nb_P > 0 else 0\n",
    "\n",
    "def pbtg(data):\n",
    "    return pbg(data) * ptg(data)\n",
    "\n",
    "def pbtp(data):\n",
    "    return pbp(data) * ptp(data)\n",
    "\n",
    "def pbt(data):\n",
    "    # P(B,T) = somme des cas pour G et P\n",
    "    # Nous appliquons la loi des proba totales, vu qu'on veut les individus \n",
    "    # avec des cheveux B et une hauteur T quelque soit la nationalité\n",
    "    \n",
    "    return pbtg(data) * pg(data) + pbtp(data) * pp(data)\n",
    "\n",
    "\n",
    "# -------------------------Fonction générale------------------#\n",
    "\n",
    "\n",
    "def classer_individu(data):\n",
    "    # probas a posteriori\n",
    "    p_G = (pg(data) * pbtg(data)) / pbt(data)\n",
    "    p_P = (pp(data) * pbtp(data)) / pbt(data)\n",
    "\n",
    "    if p_G > p_P:\n",
    "        return f\"Nationalité G avec une proba Max de {p_G}\"\n",
    "    elif p_P > p_G:\n",
    "        return f\"Nationalité P avec une proba Max de {p_P}\"\n",
    "    else:\n",
    "        return \"Indécis (égalité)\"\n"
   ]
  },
  {
   "cell_type": "code",
   "execution_count": 9,
   "id": "fbacbd75",
   "metadata": {},
   "outputs": [
    {
     "data": {
      "text/plain": [
       "'Nationalité P avec une proba Max de 0.510296618174948'"
      ]
     },
     "execution_count": 9,
     "metadata": {},
     "output_type": "execute_result"
    }
   ],
   "source": [
    "classer_individu(data)"
   ]
  },
  {
   "cell_type": "markdown",
   "id": "6e1d9ee8",
   "metadata": {},
   "source": [
    "### Conclusion sur la nationalité avec la première approche: \n",
    "\n",
    "Nous voyons que la probabilité de la nationalité P est celle trouvé comme plus grande "
   ]
  },
  {
   "cell_type": "markdown",
   "id": "e66f8253",
   "metadata": {},
   "source": [
    "## Reprenons la fonction cette fois sans utiliser le théorème de naive bayes\n",
    "\n",
    "Il sera question maintenant de faire le calcul de proba conditionnelle\n",
    "\n",
    "P(G/B,T) = P(B,T,G)/P(B,T) un peu comme la proba de l'intersection de G avec (B,T) divisé par P(B,T)\n",
    "\n",
    "Ici il s'agit de compter le nombre de fois qu'on a un individu B, T, G et diviser par le nombre d'individu total ensuit diviser par le calul du nombre de personnes aux cheveux B et une hauteur T et diviser par le nombre total d'individus \n",
    "\n",
    "P(P/B,T): on fait pareil sur la nationalité P, on regarde le max et on conclu sur la nationalité "
   ]
  },
  {
   "cell_type": "code",
   "execution_count": null,
   "id": "a29102a9",
   "metadata": {},
   "outputs": [],
   "source": [
    "# Fonctions utilitaires pour cette deuxième version qui n'utilise pas le théorème de Bayes \n",
    "\n",
    "\"\"\"\n",
    "Ici, on calcule directement les probabilités par comptage dans le jeu de données.\n",
    "\n",
    "Formules (probabilité conditionnelle par fréquence):\n",
    "\n",
    "P(G / B,T) = P(B,T,G) / P(B,T) \n",
    "P(B,T,G) = nombre d'individus (B,T,G) / nombre total d'individus\n",
    "P(B,T)   = nombre d'individus (B,T,*) / nombre total d'individus\n",
    "\n",
    "P(P / B,T) = P(B,T,P) / P(B,T) \n",
    "P(B,T,P) = nombre d'individus (B,T,P) / nombre total d'individus\n",
    "\"\"\"\n",
    "\n",
    "def pbtg_v2(data):\n",
    "    nb_BTG = 0\n",
    "    nb_Total = len(data) * len(data[0])\n",
    "    for ligne in data:\n",
    "        for indiv in ligne: \n",
    "            if indiv[0] == 'B' and indiv[1] == 'T' and indiv[2] == 'G':\n",
    "                nb_BTG += 1\n",
    "    return nb_BTG / nb_Total if nb_Total > 0 else 0\n",
    "\n",
    "def pbtp_v2(data):\n",
    "    nb_BTP = 0\n",
    "    nb_Total = len(data) * len(data[0])\n",
    "    for ligne in data:\n",
    "        for indiv in ligne: \n",
    "            if indiv[0] == 'B' and indiv[1] == 'T' and indiv[2] == 'P':\n",
    "                nb_BTP += 1\n",
    "    return nb_BTP / nb_Total if nb_Total > 0 else 0\n",
    "\n",
    "def pbt_v2(data):\n",
    "    nb_BT = 0\n",
    "    nb_Total = len(data) * len(data[0])\n",
    "    for ligne in data:\n",
    "        for indiv in ligne: \n",
    "            if indiv[0] == 'B' and indiv[1] == 'T':  # Nationalité indifférente\n",
    "                nb_BT += 1\n",
    "    return nb_BT / nb_Total if nb_Total > 0 else 0\n",
    "\n",
    "def classer_individu_v2(data):\n",
    "    p_G = pbtg_v2(data) / pbt_v2(data) if pbt_v2(data) > 0 else 0\n",
    "    p_P = pbtp_v2(data) / pbt_v2(data) if pbt_v2(data) > 0 else 0\n",
    "    \n",
    "    if p_G > p_P:\n",
    "        return f\"Nationalité G avec proba:  (p={p_G:.3f})\"\n",
    "    elif p_P > p_G:\n",
    "        return f\"Nationalité P avec proba: (p={p_P:.3f})\"\n",
    "    else:\n",
    "        return f\"Indécis (égalité, la proba est: p={p_G:.3f})\"\n"
   ]
  },
  {
   "cell_type": "code",
   "execution_count": 13,
   "id": "c8ab6824",
   "metadata": {},
   "outputs": [
    {
     "data": {
      "text/plain": [
       "'Nationalité P avec proba: (p=0.560)'"
      ]
     },
     "execution_count": 13,
     "metadata": {},
     "output_type": "execute_result"
    }
   ],
   "source": [
    "classer_individu_v2(data)"
   ]
  },
  {
   "cell_type": "markdown",
   "id": "141f47da",
   "metadata": {},
   "source": [
    "### Commentaire:\n",
    "\n",
    "Avec notre jeu de données, on constate que les deux approches disent que l'individu est de nationalité P bien que nous remarquons que la probabilité avec la seconde approche semble être plus grande \n",
    "\n",
    "La différence entre les deux approches est que la première est plus stable, c'est moins probable d'avoir des 0 comme avec la deuxième approche. En effet, P(B,T/G) avec la deuxième approche vu qu'on calcul P(B,T,G), c'est parfois difficile d'avoir cette combinaison dans le jeu de donnée, ce qui n'est pas le cas lorsqu'on suppose l'indépendance entre les variables et qu'on applique la formule P(B/G)*P(T/G)"
   ]
  }
 ],
 "metadata": {
  "kernelspec": {
   "display_name": "Python 3",
   "language": "python",
   "name": "python3"
  },
  "language_info": {
   "codemirror_mode": {
    "name": "ipython",
    "version": 3
   },
   "file_extension": ".py",
   "mimetype": "text/x-python",
   "name": "python",
   "nbconvert_exporter": "python",
   "pygments_lexer": "ipython3",
   "version": "3.12.10"
  }
 },
 "nbformat": 4,
 "nbformat_minor": 5
}
